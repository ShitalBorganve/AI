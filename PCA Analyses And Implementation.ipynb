{
  "nbformat": 4,
  "nbformat_minor": 0,
  "metadata": {
    "accelerator": "TPU",
    "colab": {
      "name": "PCA on _LBNL_a6_bus1_2015-10-01.ipynb",
      "provenance": [],
      "authorship_tag": "ABX9TyOQllXjW8MOmLRinZRuT4Cs",
      "include_colab_link": true
    },
    "kernelspec": {
      "display_name": "Python 3",
      "name": "python3"
    }
  },
  "cells": [
    {
      "cell_type": "markdown",
      "metadata": {
        "id": "view-in-github",
        "colab_type": "text"
      },
      "source": [
        "<a href=\"https://colab.research.google.com/github/ShitalBorganve/AI/blob/master/PCA%20Analyses%20And%20Implementation.ipynb\" target=\"_parent\"><img src=\"https://colab.research.google.com/assets/colab-badge.svg\" alt=\"Open In Colab\"/></a>"
      ]
    },
    {
      "cell_type": "markdown",
      "metadata": {
        "id": "UYmpoRr9NVYt"
      },
      "source": [
        "going to apply Principal component analysis on the given dataset using Scikit-learn and find out the dimensions(also known as components) with maximum variance(where the data is spread out).Features with little variance in the data are then projected into new lower dimension. Then the models are trained on transformed dataset to apply machine learning models.Then I have applied Random forest Regressor on old and the transformed datasets and compared them. \n",
        "\n",
        "---\n",
        "\n",
        "\n",
        "\n",
        "---\n",
        "\n"
      ]
    },
    {
      "cell_type": "code",
      "metadata": {
        "id": "YBJM7dGfNmjw"
      },
      "source": [
        " !pip install -q kaggle"
      ],
      "execution_count": 2,
      "outputs": []
    },
    {
      "cell_type": "code",
      "metadata": {
        "id": "GQSmSEihOZOJ"
      },
      "source": [
        "from google.colab import files"
      ],
      "execution_count": 3,
      "outputs": []
    },
    {
      "cell_type": "code",
      "metadata": {
        "colab": {
          "resources": {
            "http://localhost:8080/nbextensions/google.colab/files.js": {
              "data": "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",
              "ok": true,
              "headers": [
                [
                  "content-type",
                  "application/javascript"
                ]
              ],
              "status": 200,
              "status_text": ""
            }
          },
          "base_uri": "https://localhost:8080/",
          "height": 90
        },
        "id": "6UNJRraFOyYU",
        "outputId": "45297d76-b38d-4081-eef1-6435763ee5d5"
      },
      "source": [
        "files.upload()"
      ],
      "execution_count": 4,
      "outputs": [
        {
          "output_type": "display_data",
          "data": {
            "text/html": [
              "\n",
              "     <input type=\"file\" id=\"files-2d6e88b1-b936-4496-9c23-19d668eac9ec\" name=\"files[]\" multiple disabled\n",
              "        style=\"border:none\" />\n",
              "     <output id=\"result-2d6e88b1-b936-4496-9c23-19d668eac9ec\">\n",
              "      Upload widget is only available when the cell has been executed in the\n",
              "      current browser session. Please rerun this cell to enable.\n",
              "      </output>\n",
              "      <script src=\"/nbextensions/google.colab/files.js\"></script> "
            ],
            "text/plain": [
              "<IPython.core.display.HTML object>"
            ]
          },
          "metadata": {
            "tags": []
          }
        },
        {
          "output_type": "stream",
          "text": [
            "Saving kaggle.json to kaggle (1).json\n"
          ],
          "name": "stdout"
        },
        {
          "output_type": "execute_result",
          "data": {
            "text/plain": [
              "{'kaggle.json': b'{\"username\":\"shitalborganve\",\"key\":\"faec5c760c94cf6f9e18295a22cd76a4\"}'}"
            ]
          },
          "metadata": {
            "tags": []
          },
          "execution_count": 4
        }
      ]
    },
    {
      "cell_type": "code",
      "metadata": {
        "id": "Hr58QSDIO_Fe",
        "colab": {
          "base_uri": "https://localhost:8080/"
        },
        "outputId": "bb7fc3b8-4604-47c5-9536-5bd26de18a60"
      },
      "source": [
        " !mkdir ~/.kaggle"
      ],
      "execution_count": 5,
      "outputs": [
        {
          "output_type": "stream",
          "text": [
            "mkdir: cannot create directory ‘/root/.kaggle’: File exists\n"
          ],
          "name": "stdout"
        }
      ]
    },
    {
      "cell_type": "code",
      "metadata": {
        "id": "G22n_P4EPDhB"
      },
      "source": [
        "!cp kaggle.json ~/.kaggle/"
      ],
      "execution_count": 6,
      "outputs": []
    },
    {
      "cell_type": "code",
      "metadata": {
        "id": "wP78qwWgPGyr"
      },
      "source": [
        "!chmod 600 ~/.kaggle/kaggle.json"
      ],
      "execution_count": 7,
      "outputs": []
    },
    {
      "cell_type": "code",
      "metadata": {
        "colab": {
          "base_uri": "https://localhost:8080/"
        },
        "id": "VS-EIIqSPKNY",
        "outputId": "05023e4f-bc68-4fd3-adff-d45fe3a1b17c"
      },
      "source": [
        "!kaggle datasets list -s pmu"
      ],
      "execution_count": 9,
      "outputs": [
        {
          "output_type": "stream",
          "text": [
            "Warning: Looks like you're using an outdated API Version, please consider updating (server 1.5.12 / client 1.5.4)\n",
            "ref                                                          title                                               size  lastUpdated          downloadCount  \n",
            "-----------------------------------------------------------  -------------------------------------------------  -----  -------------------  -------------  \n",
            "jacklewis0221/berkeley-micropmu-part3                        Berkeley micro-PMU Part-3 (a6 Bus 1)                 2GB  2019-11-08 18:26:05             22  \n",
            "saurabhshahane/black-box-attack                              Black Box Attack Dataset                           183MB  2021-05-10 17:49:51             20  \n",
            "jacklewis0221/micro-pmu-october-1-dataset                    Micro PMU October 1 Dataset                        656MB  2019-11-21 20:01:33             81  \n",
            "danielefm/pesquisa-de-mobilidade-urbana-do-distrito-federal  Pesquisa de Mobilidade Urbana do Distrito Federal    4MB  2020-07-04 19:14:07             25  \n",
            "jacklewis0221/berkeley-micropmu-part4-grizzly-bus            Berkeley micro-PMU Part-4 (grizzly bus)              4GB  2019-11-27 18:33:15              5  \n",
            "jacklewis0221/berkeley-micropmu-part2                        Berkeley micro-PMU Part-2 (a6 Bus 1)                 4GB  2019-11-08 17:47:21             10  \n",
            "jacklewis0221/berkeley-micropmu-part8-bank-514               Berkeley micro-PMU Part-8 (Bank_514)                 4GB  2019-11-27 19:57:06              5  \n",
            "jacklewis0221/berkeley-micropmu-part1                        Berkeley micro-PMU Part-1 (a6 Bus 1)                 4GB  2019-11-08 15:28:42             35  \n",
            "jacklewis0221/isone-test-cases                               ISO-NE Test Cases                                   15MB  2019-11-25 20:56:29             25  \n",
            "jacklewis0221/berkeley-micropmu-part5-grizzly-bus            Berkeley micro-PMU Part-5 (grizzly bus)              4GB  2019-11-25 17:48:57              9  \n",
            "jacklewis0221/berkeley-micropmu-part9-bank-514               Berkeley micro-PMU Part-9 (Bank 514)                 2GB  2019-11-27 02:15:49              3  \n",
            "jacklewis0221/berkeley-micropmu-part7-bank-514               Berkeley micro-PMU Part-7 (Bank_514)                 3GB  2019-11-27 02:16:24              3  \n",
            "jacklewis0221/berkeley-micropmu-part6-grizzly-bus            Berkeley micro-PMU Part-6 (grizzly bus)              2GB  2019-11-26 20:30:16              2  \n"
          ],
          "name": "stdout"
        }
      ]
    },
    {
      "cell_type": "code",
      "metadata": {
        "colab": {
          "base_uri": "https://localhost:8080/"
        },
        "id": "ComQcrdxuLnb",
        "outputId": "d02286dd-331a-4eba-b103-6ecdeafab0e8"
      },
      "source": [
        "!kaggle datasets download jacklewis0221/micro-pmu-october-1-dataset"
      ],
      "execution_count": 8,
      "outputs": [
        {
          "output_type": "stream",
          "text": [
            "micro-pmu-october-1-dataset.zip: Skipping, found more recently modified local copy (use --force to force download)\n"
          ],
          "name": "stdout"
        }
      ]
    },
    {
      "cell_type": "code",
      "metadata": {
        "id": "AII7P7747l7s"
      },
      "source": [
        "!rm -rf berkeley-micropmu-part2.zip _LBNL_a6_bus1_C2ANG.csv _LBNL_a6_bus1_C2MAG.csv _LBNL_a6_bus1_C3MAG.csv _LBNL_a6_bus1_C1ANG.csv _LBNL_a6_bus1_C1MAG.csv"
      ],
      "execution_count": 9,
      "outputs": []
    },
    {
      "cell_type": "code",
      "metadata": {
        "colab": {
          "base_uri": "https://localhost:8080/"
        },
        "id": "EZ9PDhHcuYVX",
        "outputId": "08ed64ac-68f8-474d-8b68-949902c9ad0a"
      },
      "source": [
        "!ls"
      ],
      "execution_count": 10,
      "outputs": [
        {
          "output_type": "stream",
          "text": [
            "'kaggle (1).json'   _LBNL_a6_bus1_2015-10-01.csv      sample_data\n",
            " kaggle.json\t    micro-pmu-october-1-dataset.zip\n"
          ],
          "name": "stdout"
        }
      ]
    },
    {
      "cell_type": "code",
      "metadata": {
        "colab": {
          "base_uri": "https://localhost:8080/"
        },
        "id": "k2h-1Y0Bucb_",
        "outputId": "8abae944-1cdb-4802-f79c-7949a75029d5"
      },
      "source": [
        "!unzip micro-pmu-october-1-dataset.zip"
      ],
      "execution_count": 11,
      "outputs": [
        {
          "output_type": "stream",
          "text": [
            "Archive:  micro-pmu-october-1-dataset.zip\n",
            "replace _LBNL_a6_bus1_2015-10-01.csv? [y]es, [n]o, [A]ll, [N]one, [r]ename: yes\n",
            "  inflating: _LBNL_a6_bus1_2015-10-01.csv  \n"
          ],
          "name": "stdout"
        }
      ]
    },
    {
      "cell_type": "code",
      "metadata": {
        "colab": {
          "base_uri": "https://localhost:8080/"
        },
        "id": "bcMf-cbUDqTx",
        "outputId": "4684e447-af1f-41f6-ec4b-346565c8e01e"
      },
      "source": [
        "!ls"
      ],
      "execution_count": 32,
      "outputs": [
        {
          "output_type": "stream",
          "text": [
            "'kaggle (1).json'   _LBNL_a6_bus1_2015-10-01.csv      sample_data\n",
            " kaggle.json\t    micro-pmu-october-1-dataset.zip\n"
          ],
          "name": "stdout"
        }
      ]
    },
    {
      "cell_type": "code",
      "metadata": {
        "colab": {
          "base_uri": "https://localhost:8080/"
        },
        "id": "tW7T_mRYNbsf",
        "outputId": "908f59ac-8259-45e2-92a6-7cebf0bd9474"
      },
      "source": [
        "import numpy as np # linear algebra\n",
        "import pandas as pd # data processing, CSV file I/O (e.g. pd.read_csv)\n",
        "\n",
        "# Input data files are available in the \"../input/\" directory.\n",
        "# For example, running this (by clicking run or pressing Shift+Enter) will list the files in the input directory\n",
        "\n",
        "from subprocess import check_output\n",
        "#print(check_output([\"ls\", \"_LBNL_a6_bus1_2015-10-01.csv\"]).decode(\"utf8\"))\n",
        "print(check_output([\"ls\", \"_LBNL_a6_bus1_2015-10-01.csv\"]).decode(\"utf8\"))"
      ],
      "execution_count": 33,
      "outputs": [
        {
          "output_type": "stream",
          "text": [
            "_LBNL_a6_bus1_2015-10-01.csv\n",
            "\n"
          ],
          "name": "stdout"
        }
      ]
    },
    {
      "cell_type": "code",
      "metadata": {
        "id": "3ttUyI1jvEIJ"
      },
      "source": [
        "import numpy as np # linear algebra\n",
        "import pandas as pd # data processing, CSV file I/O (e.g. pd.read_csv)\n",
        "import matplotlib.pyplot as plt\n",
        "from matplotlib import pyplot\n",
        "import seaborn as sns\n",
        "%matplotlib inline"
      ],
      "execution_count": 34,
      "outputs": []
    },
    {
      "cell_type": "code",
      "metadata": {
        "colab": {
          "base_uri": "https://localhost:8080/",
          "height": 343
        },
        "id": "r5y6hyY4vMmf",
        "outputId": "32e765e7-5820-4796-a6fd-3d3944af9b0b"
      },
      "source": [
        "#df=pd.read_csv('_LBNL_a6_bus1_2015-10-01.csv') #Replace it with your path where the data file is stored\n",
        "df=pd.read_csv('_LBNL_a6_bus1_2015-10-01.csv')\n",
        "df.head(10)"
      ],
      "execution_count": 15,
      "outputs": [
        {
          "output_type": "execute_result",
          "data": {
            "text/html": [
              "<div>\n",
              "<style scoped>\n",
              "    .dataframe tbody tr th:only-of-type {\n",
              "        vertical-align: middle;\n",
              "    }\n",
              "\n",
              "    .dataframe tbody tr th {\n",
              "        vertical-align: top;\n",
              "    }\n",
              "\n",
              "    .dataframe thead th {\n",
              "        text-align: right;\n",
              "    }\n",
              "</style>\n",
              "<table border=\"1\" class=\"dataframe\">\n",
              "  <thead>\n",
              "    <tr style=\"text-align: right;\">\n",
              "      <th></th>\n",
              "      <th>Unnamed: 0</th>\n",
              "      <th>Time</th>\n",
              "      <th>VL1</th>\n",
              "      <th>VL2</th>\n",
              "      <th>VL3</th>\n",
              "      <th>AL1</th>\n",
              "      <th>AL2</th>\n",
              "      <th>AL3</th>\n",
              "      <th>IC1</th>\n",
              "      <th>IC2</th>\n",
              "      <th>IC3</th>\n",
              "      <th>AC1</th>\n",
              "      <th>AC2</th>\n",
              "      <th>AC3</th>\n",
              "      <th>Events</th>\n",
              "    </tr>\n",
              "  </thead>\n",
              "  <tbody>\n",
              "    <tr>\n",
              "      <th>0</th>\n",
              "      <td>0</td>\n",
              "      <td>1.443658e+18</td>\n",
              "      <td>7469.341309</td>\n",
              "      <td>7471.521973</td>\n",
              "      <td>7502.064941</td>\n",
              "      <td>357.882660</td>\n",
              "      <td>238.087585</td>\n",
              "      <td>117.906738</td>\n",
              "      <td>17.962173</td>\n",
              "      <td>23.941633</td>\n",
              "      <td>22.525549</td>\n",
              "      <td>331.211426</td>\n",
              "      <td>217.019165</td>\n",
              "      <td>83.222740</td>\n",
              "      <td>0.0</td>\n",
              "    </tr>\n",
              "    <tr>\n",
              "      <th>1</th>\n",
              "      <td>1</td>\n",
              "      <td>1.443658e+18</td>\n",
              "      <td>7469.608398</td>\n",
              "      <td>7471.703613</td>\n",
              "      <td>7502.192383</td>\n",
              "      <td>357.923859</td>\n",
              "      <td>238.127411</td>\n",
              "      <td>117.947227</td>\n",
              "      <td>17.919218</td>\n",
              "      <td>23.878366</td>\n",
              "      <td>22.482040</td>\n",
              "      <td>331.182648</td>\n",
              "      <td>217.118896</td>\n",
              "      <td>83.163498</td>\n",
              "      <td>0.0</td>\n",
              "    </tr>\n",
              "    <tr>\n",
              "      <th>2</th>\n",
              "      <td>2</td>\n",
              "      <td>1.443658e+18</td>\n",
              "      <td>7469.810059</td>\n",
              "      <td>7471.809570</td>\n",
              "      <td>7502.267090</td>\n",
              "      <td>357.964386</td>\n",
              "      <td>238.167465</td>\n",
              "      <td>117.988358</td>\n",
              "      <td>17.974640</td>\n",
              "      <td>23.824940</td>\n",
              "      <td>22.474831</td>\n",
              "      <td>331.134674</td>\n",
              "      <td>217.293427</td>\n",
              "      <td>83.222931</td>\n",
              "      <td>0.0</td>\n",
              "    </tr>\n",
              "    <tr>\n",
              "      <th>3</th>\n",
              "      <td>3</td>\n",
              "      <td>1.443658e+18</td>\n",
              "      <td>7469.842773</td>\n",
              "      <td>7471.927734</td>\n",
              "      <td>7502.214844</td>\n",
              "      <td>358.002319</td>\n",
              "      <td>238.206512</td>\n",
              "      <td>118.026810</td>\n",
              "      <td>18.037073</td>\n",
              "      <td>23.916128</td>\n",
              "      <td>22.507301</td>\n",
              "      <td>331.074158</td>\n",
              "      <td>217.476486</td>\n",
              "      <td>83.319588</td>\n",
              "      <td>0.0</td>\n",
              "    </tr>\n",
              "    <tr>\n",
              "      <th>4</th>\n",
              "      <td>4</td>\n",
              "      <td>1.443658e+18</td>\n",
              "      <td>7469.822266</td>\n",
              "      <td>7472.120605</td>\n",
              "      <td>7502.244141</td>\n",
              "      <td>358.040131</td>\n",
              "      <td>238.245026</td>\n",
              "      <td>118.063675</td>\n",
              "      <td>18.042921</td>\n",
              "      <td>24.034710</td>\n",
              "      <td>22.512310</td>\n",
              "      <td>331.187775</td>\n",
              "      <td>217.613770</td>\n",
              "      <td>83.421730</td>\n",
              "      <td>0.0</td>\n",
              "    </tr>\n",
              "    <tr>\n",
              "      <th>5</th>\n",
              "      <td>5</td>\n",
              "      <td>1.443658e+18</td>\n",
              "      <td>7469.869629</td>\n",
              "      <td>7472.167969</td>\n",
              "      <td>7502.477051</td>\n",
              "      <td>358.079712</td>\n",
              "      <td>238.284454</td>\n",
              "      <td>118.102776</td>\n",
              "      <td>18.110378</td>\n",
              "      <td>24.065283</td>\n",
              "      <td>22.557707</td>\n",
              "      <td>331.802063</td>\n",
              "      <td>217.660187</td>\n",
              "      <td>83.466385</td>\n",
              "      <td>0.0</td>\n",
              "    </tr>\n",
              "    <tr>\n",
              "      <th>6</th>\n",
              "      <td>6</td>\n",
              "      <td>1.443658e+18</td>\n",
              "      <td>7470.055176</td>\n",
              "      <td>7472.142090</td>\n",
              "      <td>7502.617676</td>\n",
              "      <td>358.119995</td>\n",
              "      <td>238.324768</td>\n",
              "      <td>118.144516</td>\n",
              "      <td>18.149937</td>\n",
              "      <td>24.040121</td>\n",
              "      <td>22.549370</td>\n",
              "      <td>332.270844</td>\n",
              "      <td>217.680389</td>\n",
              "      <td>83.447586</td>\n",
              "      <td>0.0</td>\n",
              "    </tr>\n",
              "    <tr>\n",
              "      <th>7</th>\n",
              "      <td>7</td>\n",
              "      <td>1.443658e+18</td>\n",
              "      <td>7470.196289</td>\n",
              "      <td>7472.101074</td>\n",
              "      <td>7502.752930</td>\n",
              "      <td>358.161194</td>\n",
              "      <td>238.365677</td>\n",
              "      <td>118.185562</td>\n",
              "      <td>18.063368</td>\n",
              "      <td>23.943027</td>\n",
              "      <td>22.500162</td>\n",
              "      <td>332.062622</td>\n",
              "      <td>217.655640</td>\n",
              "      <td>83.418373</td>\n",
              "      <td>0.0</td>\n",
              "    </tr>\n",
              "    <tr>\n",
              "      <th>8</th>\n",
              "      <td>8</td>\n",
              "      <td>1.443658e+18</td>\n",
              "      <td>7470.245605</td>\n",
              "      <td>7472.173828</td>\n",
              "      <td>7503.036621</td>\n",
              "      <td>358.205109</td>\n",
              "      <td>238.408966</td>\n",
              "      <td>118.227295</td>\n",
              "      <td>18.048748</td>\n",
              "      <td>23.879206</td>\n",
              "      <td>22.462141</td>\n",
              "      <td>331.928101</td>\n",
              "      <td>217.534683</td>\n",
              "      <td>83.524422</td>\n",
              "      <td>0.0</td>\n",
              "    </tr>\n",
              "    <tr>\n",
              "      <th>9</th>\n",
              "      <td>9</td>\n",
              "      <td>1.443658e+18</td>\n",
              "      <td>7470.307129</td>\n",
              "      <td>7472.336914</td>\n",
              "      <td>7503.109375</td>\n",
              "      <td>358.249359</td>\n",
              "      <td>238.453995</td>\n",
              "      <td>118.272568</td>\n",
              "      <td>18.064680</td>\n",
              "      <td>23.878237</td>\n",
              "      <td>22.386927</td>\n",
              "      <td>331.793396</td>\n",
              "      <td>217.496460</td>\n",
              "      <td>83.698212</td>\n",
              "      <td>0.0</td>\n",
              "    </tr>\n",
              "  </tbody>\n",
              "</table>\n",
              "</div>"
            ],
            "text/plain": [
              "   Unnamed: 0          Time          VL1  ...         AC2        AC3  Events\n",
              "0           0  1.443658e+18  7469.341309  ...  217.019165  83.222740     0.0\n",
              "1           1  1.443658e+18  7469.608398  ...  217.118896  83.163498     0.0\n",
              "2           2  1.443658e+18  7469.810059  ...  217.293427  83.222931     0.0\n",
              "3           3  1.443658e+18  7469.842773  ...  217.476486  83.319588     0.0\n",
              "4           4  1.443658e+18  7469.822266  ...  217.613770  83.421730     0.0\n",
              "5           5  1.443658e+18  7469.869629  ...  217.660187  83.466385     0.0\n",
              "6           6  1.443658e+18  7470.055176  ...  217.680389  83.447586     0.0\n",
              "7           7  1.443658e+18  7470.196289  ...  217.655640  83.418373     0.0\n",
              "8           8  1.443658e+18  7470.245605  ...  217.534683  83.524422     0.0\n",
              "9           9  1.443658e+18  7470.307129  ...  217.496460  83.698212     0.0\n",
              "\n",
              "[10 rows x 15 columns]"
            ]
          },
          "metadata": {
            "tags": []
          },
          "execution_count": 15
        }
      ]
    },
    {
      "cell_type": "code",
      "metadata": {
        "colab": {
          "base_uri": "https://localhost:8080/"
        },
        "id": "52VfZQoIGQey",
        "outputId": "380b08b8-0a00-4243-89d8-942e86e0dc93"
      },
      "source": [
        "print(len(df)) #print number of rows\n",
        "print(len(df.columns)) # print number of columns"
      ],
      "execution_count": 16,
      "outputs": [
        {
          "output_type": "stream",
          "text": [
            "10368000\n",
            "15\n"
          ],
          "name": "stdout"
        }
      ]
    },
    {
      "cell_type": "code",
      "metadata": {
        "id": "QNXe4yZlCY22"
      },
      "source": [
        "df=df.iloc[:,2:14] # To discard serial no,Time column and events column so that Effective parameters (features) are taken"
      ],
      "execution_count": 17,
      "outputs": []
    },
    {
      "cell_type": "code",
      "metadata": {
        "colab": {
          "base_uri": "https://localhost:8080/"
        },
        "id": "n1m_RIeQb0pH",
        "outputId": "ba19873f-8d28-4bbd-81e7-b0a19887e915"
      },
      "source": [
        "df.info()"
      ],
      "execution_count": 18,
      "outputs": [
        {
          "output_type": "stream",
          "text": [
            "<class 'pandas.core.frame.DataFrame'>\n",
            "RangeIndex: 10368000 entries, 0 to 10367999\n",
            "Data columns (total 12 columns):\n",
            " #   Column  Dtype  \n",
            "---  ------  -----  \n",
            " 0   VL1     float64\n",
            " 1   VL2     float64\n",
            " 2   VL3     float64\n",
            " 3   AL1     float64\n",
            " 4   AL2     float64\n",
            " 5   AL3     float64\n",
            " 6   IC1     float64\n",
            " 7   IC2     float64\n",
            " 8   IC3     float64\n",
            " 9   AC1     float64\n",
            " 10  AC2     float64\n",
            " 11  AC3     float64\n",
            "dtypes: float64(12)\n",
            "memory usage: 949.2 MB\n"
          ],
          "name": "stdout"
        }
      ]
    },
    {
      "cell_type": "code",
      "metadata": {
        "colab": {
          "base_uri": "https://localhost:8080/"
        },
        "id": "mRYdrrQ9GZ9l",
        "outputId": "afc3b0e5-7ee6-48e3-ae41-d1281c451adc"
      },
      "source": [
        "print(len(df))\n",
        "print(len(df.columns))"
      ],
      "execution_count": 19,
      "outputs": [
        {
          "output_type": "stream",
          "text": [
            "10368000\n",
            "12\n"
          ],
          "name": "stdout"
        }
      ]
    },
    {
      "cell_type": "code",
      "metadata": {
        "colab": {
          "base_uri": "https://localhost:8080/",
          "height": 195
        },
        "id": "1tMAHkXXDDrt",
        "outputId": "650c0cdb-b062-4a3d-8d26-019fced190da"
      },
      "source": [
        "df.head()"
      ],
      "execution_count": 35,
      "outputs": [
        {
          "output_type": "execute_result",
          "data": {
            "text/html": [
              "<div>\n",
              "<style scoped>\n",
              "    .dataframe tbody tr th:only-of-type {\n",
              "        vertical-align: middle;\n",
              "    }\n",
              "\n",
              "    .dataframe tbody tr th {\n",
              "        vertical-align: top;\n",
              "    }\n",
              "\n",
              "    .dataframe thead th {\n",
              "        text-align: right;\n",
              "    }\n",
              "</style>\n",
              "<table border=\"1\" class=\"dataframe\">\n",
              "  <thead>\n",
              "    <tr style=\"text-align: right;\">\n",
              "      <th></th>\n",
              "      <th>VL1</th>\n",
              "      <th>VL2</th>\n",
              "      <th>VL3</th>\n",
              "      <th>AL1</th>\n",
              "      <th>AL2</th>\n",
              "      <th>AL3</th>\n",
              "      <th>IC1</th>\n",
              "      <th>IC2</th>\n",
              "      <th>IC3</th>\n",
              "      <th>AC1</th>\n",
              "      <th>AC2</th>\n",
              "      <th>AC3</th>\n",
              "    </tr>\n",
              "  </thead>\n",
              "  <tbody>\n",
              "    <tr>\n",
              "      <th>0</th>\n",
              "      <td>7469.341309</td>\n",
              "      <td>7471.521973</td>\n",
              "      <td>7502.064941</td>\n",
              "      <td>357.882660</td>\n",
              "      <td>238.087585</td>\n",
              "      <td>117.906738</td>\n",
              "      <td>17.962173</td>\n",
              "      <td>23.941633</td>\n",
              "      <td>22.525549</td>\n",
              "      <td>331.211426</td>\n",
              "      <td>217.019165</td>\n",
              "      <td>83.222740</td>\n",
              "    </tr>\n",
              "    <tr>\n",
              "      <th>1</th>\n",
              "      <td>7469.608398</td>\n",
              "      <td>7471.703613</td>\n",
              "      <td>7502.192383</td>\n",
              "      <td>357.923859</td>\n",
              "      <td>238.127411</td>\n",
              "      <td>117.947227</td>\n",
              "      <td>17.919218</td>\n",
              "      <td>23.878366</td>\n",
              "      <td>22.482040</td>\n",
              "      <td>331.182648</td>\n",
              "      <td>217.118896</td>\n",
              "      <td>83.163498</td>\n",
              "    </tr>\n",
              "    <tr>\n",
              "      <th>2</th>\n",
              "      <td>7469.810059</td>\n",
              "      <td>7471.809570</td>\n",
              "      <td>7502.267090</td>\n",
              "      <td>357.964386</td>\n",
              "      <td>238.167465</td>\n",
              "      <td>117.988358</td>\n",
              "      <td>17.974640</td>\n",
              "      <td>23.824940</td>\n",
              "      <td>22.474831</td>\n",
              "      <td>331.134674</td>\n",
              "      <td>217.293427</td>\n",
              "      <td>83.222931</td>\n",
              "    </tr>\n",
              "    <tr>\n",
              "      <th>3</th>\n",
              "      <td>7469.842773</td>\n",
              "      <td>7471.927734</td>\n",
              "      <td>7502.214844</td>\n",
              "      <td>358.002319</td>\n",
              "      <td>238.206512</td>\n",
              "      <td>118.026810</td>\n",
              "      <td>18.037073</td>\n",
              "      <td>23.916128</td>\n",
              "      <td>22.507301</td>\n",
              "      <td>331.074158</td>\n",
              "      <td>217.476486</td>\n",
              "      <td>83.319588</td>\n",
              "    </tr>\n",
              "    <tr>\n",
              "      <th>4</th>\n",
              "      <td>7469.822266</td>\n",
              "      <td>7472.120605</td>\n",
              "      <td>7502.244141</td>\n",
              "      <td>358.040131</td>\n",
              "      <td>238.245026</td>\n",
              "      <td>118.063675</td>\n",
              "      <td>18.042921</td>\n",
              "      <td>24.034710</td>\n",
              "      <td>22.512310</td>\n",
              "      <td>331.187775</td>\n",
              "      <td>217.613770</td>\n",
              "      <td>83.421730</td>\n",
              "    </tr>\n",
              "  </tbody>\n",
              "</table>\n",
              "</div>"
            ],
            "text/plain": [
              "           VL1          VL2          VL3  ...         AC1         AC2        AC3\n",
              "0  7469.341309  7471.521973  7502.064941  ...  331.211426  217.019165  83.222740\n",
              "1  7469.608398  7471.703613  7502.192383  ...  331.182648  217.118896  83.163498\n",
              "2  7469.810059  7471.809570  7502.267090  ...  331.134674  217.293427  83.222931\n",
              "3  7469.842773  7471.927734  7502.214844  ...  331.074158  217.476486  83.319588\n",
              "4  7469.822266  7472.120605  7502.244141  ...  331.187775  217.613770  83.421730\n",
              "\n",
              "[5 rows x 12 columns]"
            ]
          },
          "metadata": {
            "tags": []
          },
          "execution_count": 35
        }
      ]
    },
    {
      "cell_type": "code",
      "metadata": {
        "colab": {
          "base_uri": "https://localhost:8080/"
        },
        "id": "LGjtLIVHDRdO",
        "outputId": "5c6e01fa-9707-4911-e208-59be8e7227bf"
      },
      "source": [
        "print(len(df))"
      ],
      "execution_count": 21,
      "outputs": [
        {
          "output_type": "stream",
          "text": [
            "10368000\n"
          ],
          "name": "stdout"
        }
      ]
    },
    {
      "cell_type": "code",
      "metadata": {
        "colab": {
          "base_uri": "https://localhost:8080/",
          "height": 284
        },
        "id": "opWhz3oevY3u",
        "outputId": "85b3fdae-70af-4bba-9a44-d4f7d71ced13"
      },
      "source": [
        "df.describe()"
      ],
      "execution_count": 22,
      "outputs": [
        {
          "output_type": "execute_result",
          "data": {
            "text/html": [
              "<div>\n",
              "<style scoped>\n",
              "    .dataframe tbody tr th:only-of-type {\n",
              "        vertical-align: middle;\n",
              "    }\n",
              "\n",
              "    .dataframe tbody tr th {\n",
              "        vertical-align: top;\n",
              "    }\n",
              "\n",
              "    .dataframe thead th {\n",
              "        text-align: right;\n",
              "    }\n",
              "</style>\n",
              "<table border=\"1\" class=\"dataframe\">\n",
              "  <thead>\n",
              "    <tr style=\"text-align: right;\">\n",
              "      <th></th>\n",
              "      <th>VL1</th>\n",
              "      <th>VL2</th>\n",
              "      <th>VL3</th>\n",
              "      <th>AL1</th>\n",
              "      <th>AL2</th>\n",
              "      <th>AL3</th>\n",
              "      <th>IC1</th>\n",
              "      <th>IC2</th>\n",
              "      <th>IC3</th>\n",
              "      <th>AC1</th>\n",
              "      <th>AC2</th>\n",
              "      <th>AC3</th>\n",
              "    </tr>\n",
              "  </thead>\n",
              "  <tbody>\n",
              "    <tr>\n",
              "      <th>count</th>\n",
              "      <td>1.036800e+07</td>\n",
              "      <td>1.036800e+07</td>\n",
              "      <td>1.036800e+07</td>\n",
              "      <td>1.036800e+07</td>\n",
              "      <td>1.036800e+07</td>\n",
              "      <td>1.036800e+07</td>\n",
              "      <td>1.036800e+07</td>\n",
              "      <td>1.036800e+07</td>\n",
              "      <td>1.036800e+07</td>\n",
              "      <td>1.036800e+07</td>\n",
              "      <td>1.036800e+07</td>\n",
              "      <td>1.036800e+07</td>\n",
              "    </tr>\n",
              "    <tr>\n",
              "      <th>mean</th>\n",
              "      <td>7.458856e+03</td>\n",
              "      <td>7.462810e+03</td>\n",
              "      <td>7.489420e+03</td>\n",
              "      <td>1.802060e+02</td>\n",
              "      <td>1.807175e+02</td>\n",
              "      <td>1.782894e+02</td>\n",
              "      <td>1.670535e+01</td>\n",
              "      <td>2.236628e+01</td>\n",
              "      <td>2.101658e+01</td>\n",
              "      <td>1.819780e+02</td>\n",
              "      <td>1.801835e+02</td>\n",
              "      <td>1.784088e+02</td>\n",
              "    </tr>\n",
              "    <tr>\n",
              "      <th>std</th>\n",
              "      <td>2.478275e+01</td>\n",
              "      <td>2.407502e+01</td>\n",
              "      <td>2.313949e+01</td>\n",
              "      <td>1.048610e+02</td>\n",
              "      <td>1.032435e+02</td>\n",
              "      <td>1.036218e+02</td>\n",
              "      <td>3.022347e+00</td>\n",
              "      <td>3.197779e+00</td>\n",
              "      <td>3.372325e+00</td>\n",
              "      <td>1.046192e+02</td>\n",
              "      <td>1.031683e+02</td>\n",
              "      <td>1.041125e+02</td>\n",
              "    </tr>\n",
              "    <tr>\n",
              "      <th>min</th>\n",
              "      <td>7.404294e+03</td>\n",
              "      <td>7.378416e+03</td>\n",
              "      <td>7.406410e+03</td>\n",
              "      <td>-1.908470e-01</td>\n",
              "      <td>-1.747510e-01</td>\n",
              "      <td>-1.656410e-01</td>\n",
              "      <td>1.245518e+01</td>\n",
              "      <td>1.775873e+01</td>\n",
              "      <td>1.635792e+01</td>\n",
              "      <td>-2.002665e+00</td>\n",
              "      <td>-2.193254e+00</td>\n",
              "      <td>-1.434109e+00</td>\n",
              "    </tr>\n",
              "    <tr>\n",
              "      <th>25%</th>\n",
              "      <td>7.439010e+03</td>\n",
              "      <td>7.445171e+03</td>\n",
              "      <td>7.470300e+03</td>\n",
              "      <td>8.828184e+01</td>\n",
              "      <td>9.139122e+01</td>\n",
              "      <td>8.891262e+01</td>\n",
              "      <td>1.398549e+01</td>\n",
              "      <td>1.949384e+01</td>\n",
              "      <td>1.801152e+01</td>\n",
              "      <td>9.114123e+01</td>\n",
              "      <td>9.196667e+01</td>\n",
              "      <td>8.821212e+01</td>\n",
              "    </tr>\n",
              "    <tr>\n",
              "      <th>50%</th>\n",
              "      <td>7.453867e+03</td>\n",
              "      <td>7.456519e+03</td>\n",
              "      <td>7.486474e+03</td>\n",
              "      <td>1.805257e+02</td>\n",
              "      <td>1.822821e+02</td>\n",
              "      <td>1.770521e+02</td>\n",
              "      <td>1.582690e+01</td>\n",
              "      <td>2.134891e+01</td>\n",
              "      <td>1.993347e+01</td>\n",
              "      <td>1.826208e+02</td>\n",
              "      <td>1.811770e+02</td>\n",
              "      <td>1.767104e+02</td>\n",
              "    </tr>\n",
              "    <tr>\n",
              "      <th>75%</th>\n",
              "      <td>7.470381e+03</td>\n",
              "      <td>7.474170e+03</td>\n",
              "      <td>7.501033e+03</td>\n",
              "      <td>2.717824e+02</td>\n",
              "      <td>2.687109e+02</td>\n",
              "      <td>2.683523e+02</td>\n",
              "      <td>1.920222e+01</td>\n",
              "      <td>2.502223e+01</td>\n",
              "      <td>2.380603e+01</td>\n",
              "      <td>2.734425e+02</td>\n",
              "      <td>2.687571e+02</td>\n",
              "      <td>2.686675e+02</td>\n",
              "    </tr>\n",
              "    <tr>\n",
              "      <th>max</th>\n",
              "      <td>7.523722e+03</td>\n",
              "      <td>7.526080e+03</td>\n",
              "      <td>7.549327e+03</td>\n",
              "      <td>3.601789e+02</td>\n",
              "      <td>3.601855e+02</td>\n",
              "      <td>3.601930e+02</td>\n",
              "      <td>2.733830e+01</td>\n",
              "      <td>3.341502e+01</td>\n",
              "      <td>3.285428e+01</td>\n",
              "      <td>3.644731e+02</td>\n",
              "      <td>3.623845e+02</td>\n",
              "      <td>3.628858e+02</td>\n",
              "    </tr>\n",
              "  </tbody>\n",
              "</table>\n",
              "</div>"
            ],
            "text/plain": [
              "                VL1           VL2  ...           AC2           AC3\n",
              "count  1.036800e+07  1.036800e+07  ...  1.036800e+07  1.036800e+07\n",
              "mean   7.458856e+03  7.462810e+03  ...  1.801835e+02  1.784088e+02\n",
              "std    2.478275e+01  2.407502e+01  ...  1.031683e+02  1.041125e+02\n",
              "min    7.404294e+03  7.378416e+03  ... -2.193254e+00 -1.434109e+00\n",
              "25%    7.439010e+03  7.445171e+03  ...  9.196667e+01  8.821212e+01\n",
              "50%    7.453867e+03  7.456519e+03  ...  1.811770e+02  1.767104e+02\n",
              "75%    7.470381e+03  7.474170e+03  ...  2.687571e+02  2.686675e+02\n",
              "max    7.523722e+03  7.526080e+03  ...  3.623845e+02  3.628858e+02\n",
              "\n",
              "[8 rows x 12 columns]"
            ]
          },
          "metadata": {
            "tags": []
          },
          "execution_count": 22
        }
      ]
    },
    {
      "cell_type": "code",
      "metadata": {
        "colab": {
          "base_uri": "https://localhost:8080/",
          "height": 402
        },
        "id": "q34McleQvci1",
        "outputId": "6d7a5b2f-c3c2-4156-cebd-4f80ff3c2369"
      },
      "source": [
        "df.corr()"
      ],
      "execution_count": 36,
      "outputs": [
        {
          "output_type": "execute_result",
          "data": {
            "text/html": [
              "<div>\n",
              "<style scoped>\n",
              "    .dataframe tbody tr th:only-of-type {\n",
              "        vertical-align: middle;\n",
              "    }\n",
              "\n",
              "    .dataframe tbody tr th {\n",
              "        vertical-align: top;\n",
              "    }\n",
              "\n",
              "    .dataframe thead th {\n",
              "        text-align: right;\n",
              "    }\n",
              "</style>\n",
              "<table border=\"1\" class=\"dataframe\">\n",
              "  <thead>\n",
              "    <tr style=\"text-align: right;\">\n",
              "      <th></th>\n",
              "      <th>VL1</th>\n",
              "      <th>VL2</th>\n",
              "      <th>VL3</th>\n",
              "      <th>AL1</th>\n",
              "      <th>AL2</th>\n",
              "      <th>AL3</th>\n",
              "      <th>IC1</th>\n",
              "      <th>IC2</th>\n",
              "      <th>IC3</th>\n",
              "      <th>AC1</th>\n",
              "      <th>AC2</th>\n",
              "      <th>AC3</th>\n",
              "    </tr>\n",
              "  </thead>\n",
              "  <tbody>\n",
              "    <tr>\n",
              "      <th>VL1</th>\n",
              "      <td>1.000000</td>\n",
              "      <td>0.992254</td>\n",
              "      <td>0.996803</td>\n",
              "      <td>-0.015824</td>\n",
              "      <td>-0.008572</td>\n",
              "      <td>0.016172</td>\n",
              "      <td>-0.550148</td>\n",
              "      <td>-0.548662</td>\n",
              "      <td>-0.549772</td>\n",
              "      <td>-0.014535</td>\n",
              "      <td>0.002983</td>\n",
              "      <td>0.015128</td>\n",
              "    </tr>\n",
              "    <tr>\n",
              "      <th>VL2</th>\n",
              "      <td>0.992254</td>\n",
              "      <td>1.000000</td>\n",
              "      <td>0.984508</td>\n",
              "      <td>-0.014971</td>\n",
              "      <td>-0.007013</td>\n",
              "      <td>0.015294</td>\n",
              "      <td>-0.458634</td>\n",
              "      <td>-0.457697</td>\n",
              "      <td>-0.458458</td>\n",
              "      <td>-0.013606</td>\n",
              "      <td>0.003604</td>\n",
              "      <td>0.014449</td>\n",
              "    </tr>\n",
              "    <tr>\n",
              "      <th>VL3</th>\n",
              "      <td>0.996803</td>\n",
              "      <td>0.984508</td>\n",
              "      <td>1.000000</td>\n",
              "      <td>-0.018439</td>\n",
              "      <td>-0.008637</td>\n",
              "      <td>0.016824</td>\n",
              "      <td>-0.575834</td>\n",
              "      <td>-0.574078</td>\n",
              "      <td>-0.575426</td>\n",
              "      <td>-0.016217</td>\n",
              "      <td>0.003272</td>\n",
              "      <td>0.015899</td>\n",
              "    </tr>\n",
              "    <tr>\n",
              "      <th>AL1</th>\n",
              "      <td>-0.015824</td>\n",
              "      <td>-0.014971</td>\n",
              "      <td>-0.018439</td>\n",
              "      <td>1.000000</td>\n",
              "      <td>-0.331807</td>\n",
              "      <td>-0.335660</td>\n",
              "      <td>0.013269</td>\n",
              "      <td>0.013642</td>\n",
              "      <td>0.013503</td>\n",
              "      <td>0.567632</td>\n",
              "      <td>-0.431248</td>\n",
              "      <td>-0.074215</td>\n",
              "    </tr>\n",
              "    <tr>\n",
              "      <th>AL2</th>\n",
              "      <td>-0.008572</td>\n",
              "      <td>-0.007013</td>\n",
              "      <td>-0.008637</td>\n",
              "      <td>-0.331807</td>\n",
              "      <td>1.000000</td>\n",
              "      <td>-0.333106</td>\n",
              "      <td>0.017253</td>\n",
              "      <td>0.017230</td>\n",
              "      <td>0.017964</td>\n",
              "      <td>-0.138459</td>\n",
              "      <td>0.653734</td>\n",
              "      <td>-0.474899</td>\n",
              "    </tr>\n",
              "    <tr>\n",
              "      <th>AL3</th>\n",
              "      <td>0.016172</td>\n",
              "      <td>0.015294</td>\n",
              "      <td>0.016824</td>\n",
              "      <td>-0.335660</td>\n",
              "      <td>-0.333106</td>\n",
              "      <td>1.000000</td>\n",
              "      <td>-0.014897</td>\n",
              "      <td>-0.015517</td>\n",
              "      <td>-0.015568</td>\n",
              "      <td>-0.454278</td>\n",
              "      <td>-0.184826</td>\n",
              "      <td>0.454328</td>\n",
              "    </tr>\n",
              "    <tr>\n",
              "      <th>IC1</th>\n",
              "      <td>-0.550148</td>\n",
              "      <td>-0.458634</td>\n",
              "      <td>-0.575834</td>\n",
              "      <td>0.013269</td>\n",
              "      <td>0.017253</td>\n",
              "      <td>-0.014897</td>\n",
              "      <td>1.000000</td>\n",
              "      <td>0.996310</td>\n",
              "      <td>0.996496</td>\n",
              "      <td>0.015790</td>\n",
              "      <td>0.007161</td>\n",
              "      <td>-0.015284</td>\n",
              "    </tr>\n",
              "    <tr>\n",
              "      <th>IC2</th>\n",
              "      <td>-0.548662</td>\n",
              "      <td>-0.457697</td>\n",
              "      <td>-0.574078</td>\n",
              "      <td>0.013642</td>\n",
              "      <td>0.017230</td>\n",
              "      <td>-0.015517</td>\n",
              "      <td>0.996310</td>\n",
              "      <td>1.000000</td>\n",
              "      <td>0.996780</td>\n",
              "      <td>0.015497</td>\n",
              "      <td>0.007184</td>\n",
              "      <td>-0.015295</td>\n",
              "    </tr>\n",
              "    <tr>\n",
              "      <th>IC3</th>\n",
              "      <td>-0.549772</td>\n",
              "      <td>-0.458458</td>\n",
              "      <td>-0.575426</td>\n",
              "      <td>0.013503</td>\n",
              "      <td>0.017964</td>\n",
              "      <td>-0.015568</td>\n",
              "      <td>0.996496</td>\n",
              "      <td>0.996780</td>\n",
              "      <td>1.000000</td>\n",
              "      <td>0.015991</td>\n",
              "      <td>0.007471</td>\n",
              "      <td>-0.015722</td>\n",
              "    </tr>\n",
              "    <tr>\n",
              "      <th>AC1</th>\n",
              "      <td>-0.014535</td>\n",
              "      <td>-0.013606</td>\n",
              "      <td>-0.016217</td>\n",
              "      <td>0.567632</td>\n",
              "      <td>-0.138459</td>\n",
              "      <td>-0.454278</td>\n",
              "      <td>0.015790</td>\n",
              "      <td>0.015497</td>\n",
              "      <td>0.015991</td>\n",
              "      <td>1.000000</td>\n",
              "      <td>-0.296020</td>\n",
              "      <td>-0.287603</td>\n",
              "    </tr>\n",
              "    <tr>\n",
              "      <th>AC2</th>\n",
              "      <td>0.002983</td>\n",
              "      <td>0.003604</td>\n",
              "      <td>0.003272</td>\n",
              "      <td>-0.431248</td>\n",
              "      <td>0.653734</td>\n",
              "      <td>-0.184826</td>\n",
              "      <td>0.007161</td>\n",
              "      <td>0.007184</td>\n",
              "      <td>0.007471</td>\n",
              "      <td>-0.296020</td>\n",
              "      <td>1.000000</td>\n",
              "      <td>-0.402066</td>\n",
              "    </tr>\n",
              "    <tr>\n",
              "      <th>AC3</th>\n",
              "      <td>0.015128</td>\n",
              "      <td>0.014449</td>\n",
              "      <td>0.015899</td>\n",
              "      <td>-0.074215</td>\n",
              "      <td>-0.474899</td>\n",
              "      <td>0.454328</td>\n",
              "      <td>-0.015284</td>\n",
              "      <td>-0.015295</td>\n",
              "      <td>-0.015722</td>\n",
              "      <td>-0.287603</td>\n",
              "      <td>-0.402066</td>\n",
              "      <td>1.000000</td>\n",
              "    </tr>\n",
              "  </tbody>\n",
              "</table>\n",
              "</div>"
            ],
            "text/plain": [
              "          VL1       VL2       VL3  ...       AC1       AC2       AC3\n",
              "VL1  1.000000  0.992254  0.996803  ... -0.014535  0.002983  0.015128\n",
              "VL2  0.992254  1.000000  0.984508  ... -0.013606  0.003604  0.014449\n",
              "VL3  0.996803  0.984508  1.000000  ... -0.016217  0.003272  0.015899\n",
              "AL1 -0.015824 -0.014971 -0.018439  ...  0.567632 -0.431248 -0.074215\n",
              "AL2 -0.008572 -0.007013 -0.008637  ... -0.138459  0.653734 -0.474899\n",
              "AL3  0.016172  0.015294  0.016824  ... -0.454278 -0.184826  0.454328\n",
              "IC1 -0.550148 -0.458634 -0.575834  ...  0.015790  0.007161 -0.015284\n",
              "IC2 -0.548662 -0.457697 -0.574078  ...  0.015497  0.007184 -0.015295\n",
              "IC3 -0.549772 -0.458458 -0.575426  ...  0.015991  0.007471 -0.015722\n",
              "AC1 -0.014535 -0.013606 -0.016217  ...  1.000000 -0.296020 -0.287603\n",
              "AC2  0.002983  0.003604  0.003272  ... -0.296020  1.000000 -0.402066\n",
              "AC3  0.015128  0.014449  0.015899  ... -0.287603 -0.402066  1.000000\n",
              "\n",
              "[12 rows x 12 columns]"
            ]
          },
          "metadata": {
            "tags": []
          },
          "execution_count": 36
        }
      ]
    },
    {
      "cell_type": "code",
      "metadata": {
        "colab": {
          "base_uri": "https://localhost:8080/",
          "height": 279
        },
        "id": "MBuwTb3ovhnv",
        "outputId": "1479e33d-eec2-4a6e-f4b8-1e3bcc3053d8"
      },
      "source": [
        "x=df['IC2']\n",
        "y=df['IC3']\n",
        "colors=()\n",
        "plt.xlabel('IC2 Values')\n",
        "plt.ylabel('IC3 Values')\n",
        "#plt.scatter(x,y,c=colors)\n",
        "plt.scatter(x,y)\n",
        "plt.show()"
      ],
      "execution_count": 24,
      "outputs": [
        {
          "output_type": "display_data",
          "data": {
            "image/png": "[encoded data removed]",
            "text/plain": [
              "<Figure size 432x288 with 1 Axes>"
            ]
          },
          "metadata": {
            "tags": [],
            "needs_background": "light"
          }
        }
      ]
    },
    {
      "cell_type": "code",
      "metadata": {
        "colab": {
          "base_uri": "https://localhost:8080/",
          "height": 402
        },
        "id": "blgc8yGswjET",
        "outputId": "751a79c7-4dec-43cf-ee97-a121efc52799"
      },
      "source": [
        "X = df.iloc[:,0:12]  # all columns, all the features and no labels\n",
        "\n",
        "y = df.iloc[:, 0]  # all rows, label only\n",
        "X\n",
        "#y"
      ],
      "execution_count": 25,
      "outputs": [
        {
          "output_type": "execute_result",
          "data": {
            "text/html": [
              "<div>\n",
              "<style scoped>\n",
              "    .dataframe tbody tr th:only-of-type {\n",
              "        vertical-align: middle;\n",
              "    }\n",
              "\n",
              "    .dataframe tbody tr th {\n",
              "        vertical-align: top;\n",
              "    }\n",
              "\n",
              "    .dataframe thead th {\n",
              "        text-align: right;\n",
              "    }\n",
              "</style>\n",
              "<table border=\"1\" class=\"dataframe\">\n",
              "  <thead>\n",
              "    <tr style=\"text-align: right;\">\n",
              "      <th></th>\n",
              "      <th>VL1</th>\n",
              "      <th>VL2</th>\n",
              "      <th>VL3</th>\n",
              "      <th>AL1</th>\n",
              "      <th>AL2</th>\n",
              "      <th>AL3</th>\n",
              "      <th>IC1</th>\n",
              "      <th>IC2</th>\n",
              "      <th>IC3</th>\n",
              "      <th>AC1</th>\n",
              "      <th>AC2</th>\n",
              "      <th>AC3</th>\n",
              "    </tr>\n",
              "  </thead>\n",
              "  <tbody>\n",
              "    <tr>\n",
              "      <th>0</th>\n",
              "      <td>7469.341309</td>\n",
              "      <td>7471.521973</td>\n",
              "      <td>7502.064941</td>\n",
              "      <td>357.882660</td>\n",
              "      <td>238.087585</td>\n",
              "      <td>117.906738</td>\n",
              "      <td>17.962173</td>\n",
              "      <td>23.941633</td>\n",
              "      <td>22.525549</td>\n",
              "      <td>331.211426</td>\n",
              "      <td>217.019165</td>\n",
              "      <td>83.222740</td>\n",
              "    </tr>\n",
              "    <tr>\n",
              "      <th>1</th>\n",
              "      <td>7469.608398</td>\n",
              "      <td>7471.703613</td>\n",
              "      <td>7502.192383</td>\n",
              "      <td>357.923859</td>\n",
              "      <td>238.127411</td>\n",
              "      <td>117.947227</td>\n",
              "      <td>17.919218</td>\n",
              "      <td>23.878366</td>\n",
              "      <td>22.482040</td>\n",
              "      <td>331.182648</td>\n",
              "      <td>217.118896</td>\n",
              "      <td>83.163498</td>\n",
              "    </tr>\n",
              "    <tr>\n",
              "      <th>2</th>\n",
              "      <td>7469.810059</td>\n",
              "      <td>7471.809570</td>\n",
              "      <td>7502.267090</td>\n",
              "      <td>357.964386</td>\n",
              "      <td>238.167465</td>\n",
              "      <td>117.988358</td>\n",
              "      <td>17.974640</td>\n",
              "      <td>23.824940</td>\n",
              "      <td>22.474831</td>\n",
              "      <td>331.134674</td>\n",
              "      <td>217.293427</td>\n",
              "      <td>83.222931</td>\n",
              "    </tr>\n",
              "    <tr>\n",
              "      <th>3</th>\n",
              "      <td>7469.842773</td>\n",
              "      <td>7471.927734</td>\n",
              "      <td>7502.214844</td>\n",
              "      <td>358.002319</td>\n",
              "      <td>238.206512</td>\n",
              "      <td>118.026810</td>\n",
              "      <td>18.037073</td>\n",
              "      <td>23.916128</td>\n",
              "      <td>22.507301</td>\n",
              "      <td>331.074158</td>\n",
              "      <td>217.476486</td>\n",
              "      <td>83.319588</td>\n",
              "    </tr>\n",
              "    <tr>\n",
              "      <th>4</th>\n",
              "      <td>7469.822266</td>\n",
              "      <td>7472.120605</td>\n",
              "      <td>7502.244141</td>\n",
              "      <td>358.040131</td>\n",
              "      <td>238.245026</td>\n",
              "      <td>118.063675</td>\n",
              "      <td>18.042921</td>\n",
              "      <td>24.034710</td>\n",
              "      <td>22.512310</td>\n",
              "      <td>331.187775</td>\n",
              "      <td>217.613770</td>\n",
              "      <td>83.421730</td>\n",
              "    </tr>\n",
              "    <tr>\n",
              "      <th>...</th>\n",
              "      <td>...</td>\n",
              "      <td>...</td>\n",
              "      <td>...</td>\n",
              "      <td>...</td>\n",
              "      <td>...</td>\n",
              "      <td>...</td>\n",
              "      <td>...</td>\n",
              "      <td>...</td>\n",
              "      <td>...</td>\n",
              "      <td>...</td>\n",
              "      <td>...</td>\n",
              "      <td>...</td>\n",
              "    </tr>\n",
              "    <tr>\n",
              "      <th>10367995</th>\n",
              "      <td>7449.165039</td>\n",
              "      <td>7456.950684</td>\n",
              "      <td>7480.336426</td>\n",
              "      <td>246.722046</td>\n",
              "      <td>126.890938</td>\n",
              "      <td>6.705578</td>\n",
              "      <td>19.834072</td>\n",
              "      <td>25.779219</td>\n",
              "      <td>24.732191</td>\n",
              "      <td>219.673431</td>\n",
              "      <td>106.065033</td>\n",
              "      <td>332.553558</td>\n",
              "    </tr>\n",
              "    <tr>\n",
              "      <th>10367996</th>\n",
              "      <td>7449.188477</td>\n",
              "      <td>7456.961914</td>\n",
              "      <td>7480.250000</td>\n",
              "      <td>246.876434</td>\n",
              "      <td>127.044991</td>\n",
              "      <td>6.860225</td>\n",
              "      <td>19.964079</td>\n",
              "      <td>25.828913</td>\n",
              "      <td>24.654770</td>\n",
              "      <td>220.252289</td>\n",
              "      <td>105.900620</td>\n",
              "      <td>332.800079</td>\n",
              "    </tr>\n",
              "    <tr>\n",
              "      <th>10367997</th>\n",
              "      <td>7449.098633</td>\n",
              "      <td>7456.850586</td>\n",
              "      <td>7480.319336</td>\n",
              "      <td>247.028961</td>\n",
              "      <td>127.198547</td>\n",
              "      <td>7.013916</td>\n",
              "      <td>20.117683</td>\n",
              "      <td>25.952682</td>\n",
              "      <td>24.562939</td>\n",
              "      <td>220.646881</td>\n",
              "      <td>105.807594</td>\n",
              "      <td>333.065369</td>\n",
              "    </tr>\n",
              "    <tr>\n",
              "      <th>10367998</th>\n",
              "      <td>7448.999512</td>\n",
              "      <td>7456.692871</td>\n",
              "      <td>7480.238281</td>\n",
              "      <td>247.181381</td>\n",
              "      <td>127.351089</td>\n",
              "      <td>7.167124</td>\n",
              "      <td>20.179417</td>\n",
              "      <td>25.919607</td>\n",
              "      <td>24.514606</td>\n",
              "      <td>220.681915</td>\n",
              "      <td>105.968452</td>\n",
              "      <td>333.106323</td>\n",
              "    </tr>\n",
              "    <tr>\n",
              "      <th>10367999</th>\n",
              "      <td>7449.039551</td>\n",
              "      <td>7456.481445</td>\n",
              "      <td>7480.078125</td>\n",
              "      <td>247.334961</td>\n",
              "      <td>127.503189</td>\n",
              "      <td>7.321111</td>\n",
              "      <td>20.114500</td>\n",
              "      <td>25.828333</td>\n",
              "      <td>24.505037</td>\n",
              "      <td>220.908798</td>\n",
              "      <td>106.170227</td>\n",
              "      <td>333.244537</td>\n",
              "    </tr>\n",
              "  </tbody>\n",
              "</table>\n",
              "<p>10368000 rows × 12 columns</p>\n",
              "</div>"
            ],
            "text/plain": [
              "                  VL1          VL2  ...         AC2         AC3\n",
              "0         7469.341309  7471.521973  ...  217.019165   83.222740\n",
              "1         7469.608398  7471.703613  ...  217.118896   83.163498\n",
              "2         7469.810059  7471.809570  ...  217.293427   83.222931\n",
              "3         7469.842773  7471.927734  ...  217.476486   83.319588\n",
              "4         7469.822266  7472.120605  ...  217.613770   83.421730\n",
              "...               ...          ...  ...         ...         ...\n",
              "10367995  7449.165039  7456.950684  ...  106.065033  332.553558\n",
              "10367996  7449.188477  7456.961914  ...  105.900620  332.800079\n",
              "10367997  7449.098633  7456.850586  ...  105.807594  333.065369\n",
              "10367998  7448.999512  7456.692871  ...  105.968452  333.106323\n",
              "10367999  7449.039551  7456.481445  ...  106.170227  333.244537\n",
              "\n",
              "[10368000 rows x 12 columns]"
            ]
          },
          "metadata": {
            "tags": []
          },
          "execution_count": 25
        }
      ]
    },
    {
      "cell_type": "code",
      "metadata": {
        "id": "olV8IMrAJf4Y"
      },
      "source": [
        "#y = df.iloc[:, 1]  # all rows, label only"
      ],
      "execution_count": 35,
      "outputs": []
    },
    {
      "cell_type": "code",
      "metadata": {
        "colab": {
          "base_uri": "https://localhost:8080/",
          "height": 402
        },
        "id": "Zn-1fg5Pwmqe",
        "outputId": "74c06752-832c-410f-8b08-110650110556"
      },
      "source": [
        "df.corr()"
      ],
      "execution_count": 26,
      "outputs": [
        {
          "output_type": "execute_result",
          "data": {
            "text/html": [
              "<div>\n",
              "<style scoped>\n",
              "    .dataframe tbody tr th:only-of-type {\n",
              "        vertical-align: middle;\n",
              "    }\n",
              "\n",
              "    .dataframe tbody tr th {\n",
              "        vertical-align: top;\n",
              "    }\n",
              "\n",
              "    .dataframe thead th {\n",
              "        text-align: right;\n",
              "    }\n",
              "</style>\n",
              "<table border=\"1\" class=\"dataframe\">\n",
              "  <thead>\n",
              "    <tr style=\"text-align: right;\">\n",
              "      <th></th>\n",
              "      <th>VL1</th>\n",
              "      <th>VL2</th>\n",
              "      <th>VL3</th>\n",
              "      <th>AL1</th>\n",
              "      <th>AL2</th>\n",
              "      <th>AL3</th>\n",
              "      <th>IC1</th>\n",
              "      <th>IC2</th>\n",
              "      <th>IC3</th>\n",
              "      <th>AC1</th>\n",
              "      <th>AC2</th>\n",
              "      <th>AC3</th>\n",
              "    </tr>\n",
              "  </thead>\n",
              "  <tbody>\n",
              "    <tr>\n",
              "      <th>VL1</th>\n",
              "      <td>1.000000</td>\n",
              "      <td>0.992254</td>\n",
              "      <td>0.996803</td>\n",
              "      <td>-0.015824</td>\n",
              "      <td>-0.008572</td>\n",
              "      <td>0.016172</td>\n",
              "      <td>-0.550148</td>\n",
              "      <td>-0.548662</td>\n",
              "      <td>-0.549772</td>\n",
              "      <td>-0.014535</td>\n",
              "      <td>0.002983</td>\n",
              "      <td>0.015128</td>\n",
              "    </tr>\n",
              "    <tr>\n",
              "      <th>VL2</th>\n",
              "      <td>0.992254</td>\n",
              "      <td>1.000000</td>\n",
              "      <td>0.984508</td>\n",
              "      <td>-0.014971</td>\n",
              "      <td>-0.007013</td>\n",
              "      <td>0.015294</td>\n",
              "      <td>-0.458634</td>\n",
              "      <td>-0.457697</td>\n",
              "      <td>-0.458458</td>\n",
              "      <td>-0.013606</td>\n",
              "      <td>0.003604</td>\n",
              "      <td>0.014449</td>\n",
              "    </tr>\n",
              "    <tr>\n",
              "      <th>VL3</th>\n",
              "      <td>0.996803</td>\n",
              "      <td>0.984508</td>\n",
              "      <td>1.000000</td>\n",
              "      <td>-0.018439</td>\n",
              "      <td>-0.008637</td>\n",
              "      <td>0.016824</td>\n",
              "      <td>-0.575834</td>\n",
              "      <td>-0.574078</td>\n",
              "      <td>-0.575426</td>\n",
              "      <td>-0.016217</td>\n",
              "      <td>0.003272</td>\n",
              "      <td>0.015899</td>\n",
              "    </tr>\n",
              "    <tr>\n",
              "      <th>AL1</th>\n",
              "      <td>-0.015824</td>\n",
              "      <td>-0.014971</td>\n",
              "      <td>-0.018439</td>\n",
              "      <td>1.000000</td>\n",
              "      <td>-0.331807</td>\n",
              "      <td>-0.335660</td>\n",
              "      <td>0.013269</td>\n",
              "      <td>0.013642</td>\n",
              "      <td>0.013503</td>\n",
              "      <td>0.567632</td>\n",
              "      <td>-0.431248</td>\n",
              "      <td>-0.074215</td>\n",
              "    </tr>\n",
              "    <tr>\n",
              "      <th>AL2</th>\n",
              "      <td>-0.008572</td>\n",
              "      <td>-0.007013</td>\n",
              "      <td>-0.008637</td>\n",
              "      <td>-0.331807</td>\n",
              "      <td>1.000000</td>\n",
              "      <td>-0.333106</td>\n",
              "      <td>0.017253</td>\n",
              "      <td>0.017230</td>\n",
              "      <td>0.017964</td>\n",
              "      <td>-0.138459</td>\n",
              "      <td>0.653734</td>\n",
              "      <td>-0.474899</td>\n",
              "    </tr>\n",
              "    <tr>\n",
              "      <th>AL3</th>\n",
              "      <td>0.016172</td>\n",
              "      <td>0.015294</td>\n",
              "      <td>0.016824</td>\n",
              "      <td>-0.335660</td>\n",
              "      <td>-0.333106</td>\n",
              "      <td>1.000000</td>\n",
              "      <td>-0.014897</td>\n",
              "      <td>-0.015517</td>\n",
              "      <td>-0.015568</td>\n",
              "      <td>-0.454278</td>\n",
              "      <td>-0.184826</td>\n",
              "      <td>0.454328</td>\n",
              "    </tr>\n",
              "    <tr>\n",
              "      <th>IC1</th>\n",
              "      <td>-0.550148</td>\n",
              "      <td>-0.458634</td>\n",
              "      <td>-0.575834</td>\n",
              "      <td>0.013269</td>\n",
              "      <td>0.017253</td>\n",
              "      <td>-0.014897</td>\n",
              "      <td>1.000000</td>\n",
              "      <td>0.996310</td>\n",
              "      <td>0.996496</td>\n",
              "      <td>0.015790</td>\n",
              "      <td>0.007161</td>\n",
              "      <td>-0.015284</td>\n",
              "    </tr>\n",
              "    <tr>\n",
              "      <th>IC2</th>\n",
              "      <td>-0.548662</td>\n",
              "      <td>-0.457697</td>\n",
              "      <td>-0.574078</td>\n",
              "      <td>0.013642</td>\n",
              "      <td>0.017230</td>\n",
              "      <td>-0.015517</td>\n",
              "      <td>0.996310</td>\n",
              "      <td>1.000000</td>\n",
              "      <td>0.996780</td>\n",
              "      <td>0.015497</td>\n",
              "      <td>0.007184</td>\n",
              "      <td>-0.015295</td>\n",
              "    </tr>\n",
              "    <tr>\n",
              "      <th>IC3</th>\n",
              "      <td>-0.549772</td>\n",
              "      <td>-0.458458</td>\n",
              "      <td>-0.575426</td>\n",
              "      <td>0.013503</td>\n",
              "      <td>0.017964</td>\n",
              "      <td>-0.015568</td>\n",
              "      <td>0.996496</td>\n",
              "      <td>0.996780</td>\n",
              "      <td>1.000000</td>\n",
              "      <td>0.015991</td>\n",
              "      <td>0.007471</td>\n",
              "      <td>-0.015722</td>\n",
              "    </tr>\n",
              "    <tr>\n",
              "      <th>AC1</th>\n",
              "      <td>-0.014535</td>\n",
              "      <td>-0.013606</td>\n",
              "      <td>-0.016217</td>\n",
              "      <td>0.567632</td>\n",
              "      <td>-0.138459</td>\n",
              "      <td>-0.454278</td>\n",
              "      <td>0.015790</td>\n",
              "      <td>0.015497</td>\n",
              "      <td>0.015991</td>\n",
              "      <td>1.000000</td>\n",
              "      <td>-0.296020</td>\n",
              "      <td>-0.287603</td>\n",
              "    </tr>\n",
              "    <tr>\n",
              "      <th>AC2</th>\n",
              "      <td>0.002983</td>\n",
              "      <td>0.003604</td>\n",
              "      <td>0.003272</td>\n",
              "      <td>-0.431248</td>\n",
              "      <td>0.653734</td>\n",
              "      <td>-0.184826</td>\n",
              "      <td>0.007161</td>\n",
              "      <td>0.007184</td>\n",
              "      <td>0.007471</td>\n",
              "      <td>-0.296020</td>\n",
              "      <td>1.000000</td>\n",
              "      <td>-0.402066</td>\n",
              "    </tr>\n",
              "    <tr>\n",
              "      <th>AC3</th>\n",
              "      <td>0.015128</td>\n",
              "      <td>0.014449</td>\n",
              "      <td>0.015899</td>\n",
              "      <td>-0.074215</td>\n",
              "      <td>-0.474899</td>\n",
              "      <td>0.454328</td>\n",
              "      <td>-0.015284</td>\n",
              "      <td>-0.015295</td>\n",
              "      <td>-0.015722</td>\n",
              "      <td>-0.287603</td>\n",
              "      <td>-0.402066</td>\n",
              "      <td>1.000000</td>\n",
              "    </tr>\n",
              "  </tbody>\n",
              "</table>\n",
              "</div>"
            ],
            "text/plain": [
              "          VL1       VL2       VL3  ...       AC1       AC2       AC3\n",
              "VL1  1.000000  0.992254  0.996803  ... -0.014535  0.002983  0.015128\n",
              "VL2  0.992254  1.000000  0.984508  ... -0.013606  0.003604  0.014449\n",
              "VL3  0.996803  0.984508  1.000000  ... -0.016217  0.003272  0.015899\n",
              "AL1 -0.015824 -0.014971 -0.018439  ...  0.567632 -0.431248 -0.074215\n",
              "AL2 -0.008572 -0.007013 -0.008637  ... -0.138459  0.653734 -0.474899\n",
              "AL3  0.016172  0.015294  0.016824  ... -0.454278 -0.184826  0.454328\n",
              "IC1 -0.550148 -0.458634 -0.575834  ...  0.015790  0.007161 -0.015284\n",
              "IC2 -0.548662 -0.457697 -0.574078  ...  0.015497  0.007184 -0.015295\n",
              "IC3 -0.549772 -0.458458 -0.575426  ...  0.015991  0.007471 -0.015722\n",
              "AC1 -0.014535 -0.013606 -0.016217  ...  1.000000 -0.296020 -0.287603\n",
              "AC2  0.002983  0.003604  0.003272  ... -0.296020  1.000000 -0.402066\n",
              "AC3  0.015128  0.014449  0.015899  ... -0.287603 -0.402066  1.000000\n",
              "\n",
              "[12 rows x 12 columns]"
            ]
          },
          "metadata": {
            "tags": []
          },
          "execution_count": 26
        }
      ]
    },
    {
      "cell_type": "code",
      "metadata": {
        "colab": {
          "base_uri": "https://localhost:8080/",
          "height": 624
        },
        "id": "LYtA-r-UwqBm",
        "outputId": "7000de2f-052f-4225-fd32-0f2f7f7f9ce2"
      },
      "source": [
        "correlation = df.corr()\n",
        "plt.figure(figsize=(10, 10))\n",
        "sns.heatmap(correlation, vmax=1, square=False,annot=True,cmap='viridis')\n",
        "\n",
        "plt.title('Correlation between different fearures')"
      ],
      "execution_count": 27,
      "outputs": [
        {
          "output_type": "execute_result",
          "data": {
            "text/plain": [
              "Text(0.5, 1.0, 'Correlation between different fearures')"
            ]
          },
          "metadata": {
            "tags": []
          },
          "execution_count": 27
        },
        {
          "output_type": "display_data",
          "data": {
            "image/png": "[encoded data removed]",
            "text/plain": [
              "<Figure size 720x720 with 2 Axes>"
            ]
          },
          "metadata": {
            "tags": [],
            "needs_background": "light"
          }
        }
      ]
    },
    {
      "cell_type": "markdown",
      "metadata": {
        "id": "yqEFl1sahzlU"
      },
      "source": [
        "In Numeracal Data processing, The data is scaled to normal range to get better results.\n",
        "\n",
        "**Numerical Data Scaling Methods** using the scikit-learn library.\n",
        "\n",
        "1. ***Normalization*** \n",
        "\n",
        "A value is normalized as follows:\n",
        "\n",
        "y = (x – min) / (max – min)\n",
        "Where the minimum and maximum values pertain to the value x being normalized.\n",
        "\n",
        "For Ex:\n",
        "\n",
        " for a dataset, we could guesstimate the min and max observable values as 30 and -10. We can then normalize any value, like 18.8, as follows:\n",
        "\n",
        "y = (x – min) / (max – min)\n",
        "\n",
        "y = (18.8 – (-10)) / (30 – (-10))\n",
        "\n",
        "y = 28.8 / 40\n",
        "\n",
        "y = 0.72\n",
        "\n",
        "\n",
        "\n",
        "2. ***Standardization***  \n",
        "\n",
        "Like normalization, standardization can be useful, and even required in some machine learning algorithms when your data has input values with differing scales.\n",
        "\n",
        "A value is standardized as follows:\n",
        "\n",
        "y = (x – mean) / standard_deviation\n",
        "\n",
        "Where the mean is calculated as:\n",
        "\n",
        "mean = sum(x) / count(x)\n",
        "\n",
        "And the standard_deviation is calculated as:\n",
        "\n",
        "standard_deviation = sqrt( sum( (x – mean)^2 ) / count(x))\n",
        "\n",
        "We can guesstimate a mean of 10.0 and a standard deviation of about 5.0. Using these values, we can standardize the first value of 20.7 as follows:\n",
        "\n",
        "y = (x – mean) / standard_deviation\n",
        "\n",
        "y = (20.7 – 10) / 5\n",
        "\n",
        "y = (10.7) / 5\n",
        "\n",
        "y = 2.14\n",
        "\n",
        "The mean and standard deviation estimates of a dataset can be more robust to new data than the minimum and maximum.\n",
        "\n",
        "You can standardize your dataset using the scikit-learn object **StandardScaler.**\n",
        "\n",
        "\n",
        "\n",
        "***NOTE: BELOW EXAMPLE IS NOT PART OF THE PROJECT, ITS JUST FOR TO KNOW STANDARDSCALAR***"
      ]
    },
    {
      "cell_type": "code",
      "metadata": {
        "id": "QNZk8e9VknkV"
      },
      "source": [
        "# example of a standardization\n",
        "from numpy import asarray\n",
        "from sklearn.preprocessing import StandardScaler\n",
        "# define data\n",
        "data = asarray([[100, 0.001],\n",
        "\t\t\t\t[8, 0.05],\n",
        "\t\t\t\t[50, 0.005],\n",
        "\t\t\t\t[88, 0.07],\n",
        "\t\t\t\t[4, 0.1]])\n",
        "print(data)\n",
        "# define standard scaler\n",
        "scaler = StandardScaler()\n",
        "# transform data\n",
        "scaled = scaler.fit_transform(data)\n",
        "print(scaled)"
      ],
      "execution_count": null,
      "outputs": []
    },
    {
      "cell_type": "code",
      "metadata": {
        "colab": {
          "base_uri": "https://localhost:8080/",
          "height": 281
        },
        "id": "ucO8zP5qlGwg",
        "outputId": "3dfda6a4-a43b-4e01-b357-a7056b771b40"
      },
      "source": [
        "from matplotlib import pyplot\n",
        "df.hist()\n",
        "pyplot.show()"
      ],
      "execution_count": 28,
      "outputs": [
        {
          "output_type": "display_data",
          "data": {
            "image/png": "[encoded data removed]",
            "text/plain": [
              "<Figure size 432x288 with 12 Axes>"
            ]
          },
          "metadata": {
            "tags": [],
            "needs_background": "light"
          }
        }
      ]
    },
    {
      "cell_type": "code",
      "metadata": {
        "colab": {
          "base_uri": "https://localhost:8080/",
          "height": 195
        },
        "id": "YoSBeXBDoCbi",
        "outputId": "c1ab268c-a08f-431b-f280-c6bdb74f5dc0"
      },
      "source": [
        "df.head()"
      ],
      "execution_count": 29,
      "outputs": [
        {
          "output_type": "execute_result",
          "data": {
            "text/html": [
              "<div>\n",
              "<style scoped>\n",
              "    .dataframe tbody tr th:only-of-type {\n",
              "        vertical-align: middle;\n",
              "    }\n",
              "\n",
              "    .dataframe tbody tr th {\n",
              "        vertical-align: top;\n",
              "    }\n",
              "\n",
              "    .dataframe thead th {\n",
              "        text-align: right;\n",
              "    }\n",
              "</style>\n",
              "<table border=\"1\" class=\"dataframe\">\n",
              "  <thead>\n",
              "    <tr style=\"text-align: right;\">\n",
              "      <th></th>\n",
              "      <th>VL1</th>\n",
              "      <th>VL2</th>\n",
              "      <th>VL3</th>\n",
              "      <th>AL1</th>\n",
              "      <th>AL2</th>\n",
              "      <th>AL3</th>\n",
              "      <th>IC1</th>\n",
              "      <th>IC2</th>\n",
              "      <th>IC3</th>\n",
              "      <th>AC1</th>\n",
              "      <th>AC2</th>\n",
              "      <th>AC3</th>\n",
              "    </tr>\n",
              "  </thead>\n",
              "  <tbody>\n",
              "    <tr>\n",
              "      <th>0</th>\n",
              "      <td>7469.341309</td>\n",
              "      <td>7471.521973</td>\n",
              "      <td>7502.064941</td>\n",
              "      <td>357.882660</td>\n",
              "      <td>238.087585</td>\n",
              "      <td>117.906738</td>\n",
              "      <td>17.962173</td>\n",
              "      <td>23.941633</td>\n",
              "      <td>22.525549</td>\n",
              "      <td>331.211426</td>\n",
              "      <td>217.019165</td>\n",
              "      <td>83.222740</td>\n",
              "    </tr>\n",
              "    <tr>\n",
              "      <th>1</th>\n",
              "      <td>7469.608398</td>\n",
              "      <td>7471.703613</td>\n",
              "      <td>7502.192383</td>\n",
              "      <td>357.923859</td>\n",
              "      <td>238.127411</td>\n",
              "      <td>117.947227</td>\n",
              "      <td>17.919218</td>\n",
              "      <td>23.878366</td>\n",
              "      <td>22.482040</td>\n",
              "      <td>331.182648</td>\n",
              "      <td>217.118896</td>\n",
              "      <td>83.163498</td>\n",
              "    </tr>\n",
              "    <tr>\n",
              "      <th>2</th>\n",
              "      <td>7469.810059</td>\n",
              "      <td>7471.809570</td>\n",
              "      <td>7502.267090</td>\n",
              "      <td>357.964386</td>\n",
              "      <td>238.167465</td>\n",
              "      <td>117.988358</td>\n",
              "      <td>17.974640</td>\n",
              "      <td>23.824940</td>\n",
              "      <td>22.474831</td>\n",
              "      <td>331.134674</td>\n",
              "      <td>217.293427</td>\n",
              "      <td>83.222931</td>\n",
              "    </tr>\n",
              "    <tr>\n",
              "      <th>3</th>\n",
              "      <td>7469.842773</td>\n",
              "      <td>7471.927734</td>\n",
              "      <td>7502.214844</td>\n",
              "      <td>358.002319</td>\n",
              "      <td>238.206512</td>\n",
              "      <td>118.026810</td>\n",
              "      <td>18.037073</td>\n",
              "      <td>23.916128</td>\n",
              "      <td>22.507301</td>\n",
              "      <td>331.074158</td>\n",
              "      <td>217.476486</td>\n",
              "      <td>83.319588</td>\n",
              "    </tr>\n",
              "    <tr>\n",
              "      <th>4</th>\n",
              "      <td>7469.822266</td>\n",
              "      <td>7472.120605</td>\n",
              "      <td>7502.244141</td>\n",
              "      <td>358.040131</td>\n",
              "      <td>238.245026</td>\n",
              "      <td>118.063675</td>\n",
              "      <td>18.042921</td>\n",
              "      <td>24.034710</td>\n",
              "      <td>22.512310</td>\n",
              "      <td>331.187775</td>\n",
              "      <td>217.613770</td>\n",
              "      <td>83.421730</td>\n",
              "    </tr>\n",
              "  </tbody>\n",
              "</table>\n",
              "</div>"
            ],
            "text/plain": [
              "           VL1          VL2          VL3  ...         AC1         AC2        AC3\n",
              "0  7469.341309  7471.521973  7502.064941  ...  331.211426  217.019165  83.222740\n",
              "1  7469.608398  7471.703613  7502.192383  ...  331.182648  217.118896  83.163498\n",
              "2  7469.810059  7471.809570  7502.267090  ...  331.134674  217.293427  83.222931\n",
              "3  7469.842773  7471.927734  7502.214844  ...  331.074158  217.476486  83.319588\n",
              "4  7469.822266  7472.120605  7502.244141  ...  331.187775  217.613770  83.421730\n",
              "\n",
              "[5 rows x 12 columns]"
            ]
          },
          "metadata": {
            "tags": []
          },
          "execution_count": 29
        }
      ]
    },
    {
      "cell_type": "code",
      "metadata": {
        "colab": {
          "base_uri": "https://localhost:8080/",
          "height": 466
        },
        "id": "d6n8OhKvxA-2",
        "outputId": "0343e7be-2097-45ba-b24e-1730d239f4e0"
      },
      "source": [
        "from sklearn.preprocessing import StandardScaler\n",
        "from pandas import DataFrame\n",
        "scaler = StandardScaler()\n",
        "X=scaler.fit_transform(X) #The out put is in the form of array\n",
        "X\n",
        "dataset = DataFrame(X) # Convert array into data frame\n",
        "\n",
        "#Summerize\n",
        "print(dataset.describe())\n",
        "\n",
        "# histograms of the variables\n",
        "dataset.hist()\n",
        "pyplot.show()"
      ],
      "execution_count": 30,
      "outputs": [
        {
          "output_type": "stream",
          "text": [
            "                 0             1   ...            10            11\n",
            "count  1.036800e+07  1.036800e+07  ...  1.036800e+07  1.036800e+07\n",
            "mean  -4.228492e-13  2.638626e-14  ... -2.469721e-15  3.103947e-15\n",
            "std    1.000000e+00  1.000000e+00  ...  1.000000e+00  1.000000e+00\n",
            "min   -2.201626e+00 -3.505449e+00  ... -1.767759e+00 -1.727389e+00\n",
            "25%   -8.008009e-01 -7.326629e-01  ... -8.550766e-01 -8.663383e-01\n",
            "50%   -2.013338e-01 -2.612970e-01  ...  9.629738e-03 -1.631323e-02\n",
            "75%    4.650430e-01  4.718645e-01  ...  8.585356e-01  8.669339e-01\n",
            "max    2.617380e+00  2.628048e+00  ...  1.766056e+00  1.771900e+00\n",
            "\n",
            "[8 rows x 12 columns]\n"
          ],
          "name": "stdout"
        },
        {
          "output_type": "display_data",
          "data": {
            "image/png": "[encoded data removed]",
            "text/plain": [
              "<Figure size 432x288 with 12 Axes>"
            ]
          },
          "metadata": {
            "tags": [],
            "needs_background": "light"
          }
        }
      ]
    },
    {
      "cell_type": "code",
      "metadata": {
        "id": "18YmvpA-xIRc"
      },
      "source": [
        "from sklearn.decomposition import PCA\n",
        "pca = PCA() #PCA object is initialized with 0 components, so it takes all 12 components by default\n",
        "x_data = pca.fit_transform(X)"
      ],
      "execution_count": 31,
      "outputs": []
    },
    {
      "cell_type": "code",
      "metadata": {
        "colab": {
          "base_uri": "https://localhost:8080/",
          "height": 195
        },
        "id": "Pj_IIZk2uKLJ",
        "outputId": "3352d092-5c8a-4aec-edfc-808b833caeca"
      },
      "source": [
        "#Convert x_data to a dataFrame\n",
        "data_trans = DataFrame(x_data)\n",
        "\n",
        "data_trans.head()"
      ],
      "execution_count": 41,
      "outputs": [
        {
          "output_type": "execute_result",
          "data": {
            "text/html": [
              "<div>\n",
              "<style scoped>\n",
              "    .dataframe tbody tr th:only-of-type {\n",
              "        vertical-align: middle;\n",
              "    }\n",
              "\n",
              "    .dataframe tbody tr th {\n",
              "        vertical-align: top;\n",
              "    }\n",
              "\n",
              "    .dataframe thead th {\n",
              "        text-align: right;\n",
              "    }\n",
              "</style>\n",
              "<table border=\"1\" class=\"dataframe\">\n",
              "  <thead>\n",
              "    <tr style=\"text-align: right;\">\n",
              "      <th></th>\n",
              "      <th>0</th>\n",
              "      <th>1</th>\n",
              "      <th>2</th>\n",
              "      <th>3</th>\n",
              "      <th>4</th>\n",
              "      <th>5</th>\n",
              "      <th>6</th>\n",
              "      <th>7</th>\n",
              "      <th>8</th>\n",
              "      <th>9</th>\n",
              "      <th>10</th>\n",
              "      <th>11</th>\n",
              "    </tr>\n",
              "  </thead>\n",
              "  <tbody>\n",
              "    <tr>\n",
              "      <th>0</th>\n",
              "      <td>0.086300</td>\n",
              "      <td>-0.280927</td>\n",
              "      <td>2.289583</td>\n",
              "      <td>-1.094404</td>\n",
              "      <td>-0.259828</td>\n",
              "      <td>-0.504153</td>\n",
              "      <td>-0.206901</td>\n",
              "      <td>-0.896145</td>\n",
              "      <td>-0.218553</td>\n",
              "      <td>0.012705</td>\n",
              "      <td>0.005943</td>\n",
              "      <td>0.005522</td>\n",
              "    </tr>\n",
              "    <tr>\n",
              "      <th>1</th>\n",
              "      <td>0.057443</td>\n",
              "      <td>-0.281964</td>\n",
              "      <td>2.290472</td>\n",
              "      <td>-1.085150</td>\n",
              "      <td>-0.260204</td>\n",
              "      <td>-0.504987</td>\n",
              "      <td>-0.206924</td>\n",
              "      <td>-0.896809</td>\n",
              "      <td>-0.214883</td>\n",
              "      <td>0.011024</td>\n",
              "      <td>0.001726</td>\n",
              "      <td>0.008601</td>\n",
              "    </tr>\n",
              "    <tr>\n",
              "      <th>2</th>\n",
              "      <td>0.050809</td>\n",
              "      <td>-0.282966</td>\n",
              "      <td>2.290021</td>\n",
              "      <td>-1.091347</td>\n",
              "      <td>-0.259733</td>\n",
              "      <td>-0.505852</td>\n",
              "      <td>-0.206416</td>\n",
              "      <td>-0.898016</td>\n",
              "      <td>-0.209688</td>\n",
              "      <td>-0.012112</td>\n",
              "      <td>-0.005195</td>\n",
              "      <td>0.013433</td>\n",
              "    </tr>\n",
              "    <tr>\n",
              "      <th>3</th>\n",
              "      <td>0.073336</td>\n",
              "      <td>-0.283855</td>\n",
              "      <td>2.288409</td>\n",
              "      <td>-1.117169</td>\n",
              "      <td>-0.258974</td>\n",
              "      <td>-0.506731</td>\n",
              "      <td>-0.205748</td>\n",
              "      <td>-0.899078</td>\n",
              "      <td>-0.208312</td>\n",
              "      <td>-0.011342</td>\n",
              "      <td>0.008415</td>\n",
              "      <td>0.013640</td>\n",
              "    </tr>\n",
              "    <tr>\n",
              "      <th>4</th>\n",
              "      <td>0.086604</td>\n",
              "      <td>-0.284232</td>\n",
              "      <td>2.288079</td>\n",
              "      <td>-1.137512</td>\n",
              "      <td>-0.258578</td>\n",
              "      <td>-0.506514</td>\n",
              "      <td>-0.205083</td>\n",
              "      <td>-0.900762</td>\n",
              "      <td>-0.210485</td>\n",
              "      <td>0.005761</td>\n",
              "      <td>0.031465</td>\n",
              "      <td>0.008188</td>\n",
              "    </tr>\n",
              "  </tbody>\n",
              "</table>\n",
              "</div>"
            ],
            "text/plain": [
              "         0         1         2   ...        9         10        11\n",
              "0  0.086300 -0.280927  2.289583  ...  0.012705  0.005943  0.005522\n",
              "1  0.057443 -0.281964  2.290472  ...  0.011024  0.001726  0.008601\n",
              "2  0.050809 -0.282966  2.290021  ... -0.012112 -0.005195  0.013433\n",
              "3  0.073336 -0.283855  2.288409  ... -0.011342  0.008415  0.013640\n",
              "4  0.086604 -0.284232  2.288079  ...  0.005761  0.031465  0.008188\n",
              "\n",
              "[5 rows x 12 columns]"
            ]
          },
          "metadata": {
            "tags": []
          },
          "execution_count": 41
        }
      ]
    },
    {
      "cell_type": "markdown",
      "metadata": {
        "id": "Df98wbhErQgJ"
      },
      "source": [
        "The **PCA** class contains ***explained_variance_ratio_*** which returns the variance caused by each of the **principal components**. Execute the following line of code to find the \"explained variance ratio\"."
      ]
    },
    {
      "cell_type": "code",
      "metadata": {
        "colab": {
          "base_uri": "https://localhost:8080/"
        },
        "id": "_ePV-WB4xPUv",
        "outputId": "ba9b7901-0e9b-41f1-9fda-3361de033612"
      },
      "source": [
        "explained_variance=pca.explained_variance_ratio_\n",
        "explained_variance"
      ],
      "execution_count": 37,
      "outputs": [
        {
          "output_type": "execute_result",
          "data": {
            "text/plain": [
              "array([3.81326951e-01, 1.94466922e-01, 1.77231553e-01, 1.17696621e-01,\n",
              "       4.26431571e-02, 3.34122550e-02, 2.67410827e-02, 2.52950729e-02,\n",
              "       5.14782999e-04, 3.06891083e-04, 2.64440435e-04, 1.00270723e-04])"
            ]
          },
          "metadata": {
            "tags": []
          },
          "execution_count": 37
        }
      ]
    },
    {
      "cell_type": "code",
      "metadata": {
        "colab": {
          "base_uri": "https://localhost:8080/",
          "height": 297
        },
        "id": "TWaxGbAcxTTA",
        "outputId": "7fd38b0d-5c59-4880-c7fc-e51fbfa85273"
      },
      "source": [
        "with plt.style.context('dark_background'):\n",
        "    plt.figure(figsize=(6, 4))\n",
        "\n",
        "    plt.bar(range(12), explained_variance, alpha=0.5, align='center',\n",
        "            label='individual explained variance')\n",
        "    plt.ylabel('Explained variance ratio')\n",
        "    plt.xlabel('Principal components')\n",
        "    plt.legend(loc='best')\n",
        "    plt.tight_layout()"
      ],
      "execution_count": 38,
      "outputs": [
        {
          "output_type": "display_data",
          "data": {
            "image/png": "[encoded data removed]",
            "text/plain": [
              "<Figure size 432x288 with 1 Axes>"
            ]
          },
          "metadata": {
            "tags": []
          }
        }
      ]
    },
    {
      "cell_type": "code",
      "metadata": {
        "colab": {
          "base_uri": "https://localhost:8080/",
          "height": 284
        },
        "id": "iUUsirU0xY3y",
        "outputId": "709edda3-b33d-49ea-fadb-774e6995113e"
      },
      "source": [
        "pca=PCA(n_components=4)\n",
        "X_new=pca.fit_transform(X)\n",
        "trans_new_data = DataFrame(X_new)\n",
        "\n",
        "trans_new_data.describe()"
      ],
      "execution_count": 45,
      "outputs": [
        {
          "output_type": "execute_result",
          "data": {
            "text/html": [
              "<div>\n",
              "<style scoped>\n",
              "    .dataframe tbody tr th:only-of-type {\n",
              "        vertical-align: middle;\n",
              "    }\n",
              "\n",
              "    .dataframe tbody tr th {\n",
              "        vertical-align: top;\n",
              "    }\n",
              "\n",
              "    .dataframe thead th {\n",
              "        text-align: right;\n",
              "    }\n",
              "</style>\n",
              "<table border=\"1\" class=\"dataframe\">\n",
              "  <thead>\n",
              "    <tr style=\"text-align: right;\">\n",
              "      <th></th>\n",
              "      <th>0</th>\n",
              "      <th>1</th>\n",
              "      <th>2</th>\n",
              "      <th>3</th>\n",
              "    </tr>\n",
              "  </thead>\n",
              "  <tbody>\n",
              "    <tr>\n",
              "      <th>count</th>\n",
              "      <td>1.036800e+07</td>\n",
              "      <td>1.036800e+07</td>\n",
              "      <td>1.036800e+07</td>\n",
              "      <td>1.036800e+07</td>\n",
              "    </tr>\n",
              "    <tr>\n",
              "      <th>mean</th>\n",
              "      <td>-8.102864e-14</td>\n",
              "      <td>-7.334534e-16</td>\n",
              "      <td>6.515780e-16</td>\n",
              "      <td>2.974012e-14</td>\n",
              "    </tr>\n",
              "    <tr>\n",
              "      <th>std</th>\n",
              "      <td>2.139141e+00</td>\n",
              "      <td>1.527614e+00</td>\n",
              "      <td>1.458348e+00</td>\n",
              "      <td>1.188427e+00</td>\n",
              "    </tr>\n",
              "    <tr>\n",
              "      <th>min</th>\n",
              "      <td>-4.606730e+00</td>\n",
              "      <td>-2.049972e+00</td>\n",
              "      <td>-1.568790e+00</td>\n",
              "      <td>-3.084519e+00</td>\n",
              "    </tr>\n",
              "    <tr>\n",
              "      <th>25%</th>\n",
              "      <td>-1.340843e+00</td>\n",
              "      <td>-1.874126e+00</td>\n",
              "      <td>-1.225777e+00</td>\n",
              "      <td>-9.779222e-01</td>\n",
              "    </tr>\n",
              "    <tr>\n",
              "      <th>50%</th>\n",
              "      <td>-8.898333e-02</td>\n",
              "      <td>-2.180305e-01</td>\n",
              "      <td>-9.596277e-01</td>\n",
              "      <td>-2.499970e-01</td>\n",
              "    </tr>\n",
              "    <tr>\n",
              "      <th>75%</th>\n",
              "      <td>1.602784e+00</td>\n",
              "      <td>1.939519e+00</td>\n",
              "      <td>9.871496e-01</td>\n",
              "      <td>9.481493e-01</td>\n",
              "    </tr>\n",
              "    <tr>\n",
              "      <th>max</th>\n",
              "      <td>5.750716e+00</td>\n",
              "      <td>2.110275e+00</td>\n",
              "      <td>2.439076e+00</td>\n",
              "      <td>4.086759e+00</td>\n",
              "    </tr>\n",
              "  </tbody>\n",
              "</table>\n",
              "</div>"
            ],
            "text/plain": [
              "                  0             1             2             3\n",
              "count  1.036800e+07  1.036800e+07  1.036800e+07  1.036800e+07\n",
              "mean  -8.102864e-14 -7.334534e-16  6.515780e-16  2.974012e-14\n",
              "std    2.139141e+00  1.527614e+00  1.458348e+00  1.188427e+00\n",
              "min   -4.606730e+00 -2.049972e+00 -1.568790e+00 -3.084519e+00\n",
              "25%   -1.340843e+00 -1.874126e+00 -1.225777e+00 -9.779222e-01\n",
              "50%   -8.898333e-02 -2.180305e-01 -9.596277e-01 -2.499970e-01\n",
              "75%    1.602784e+00  1.939519e+00  9.871496e-01  9.481493e-01\n",
              "max    5.750716e+00  2.110275e+00  2.439076e+00  4.086759e+00"
            ]
          },
          "metadata": {
            "tags": []
          },
          "execution_count": 45
        }
      ]
    },
    {
      "cell_type": "code",
      "metadata": {
        "id": "nuTBRr1bwjSx"
      },
      "source": [
        "trans_new_data.to_csv('cpressed_data.csv', encoding='utf-8')\n"
      ],
      "execution_count": 48,
      "outputs": []
    },
    {
      "cell_type": "code",
      "metadata": {
        "colab": {
          "base_uri": "https://localhost:8080/"
        },
        "id": "rXCp09lBxm56",
        "outputId": "3fdcd2c0-e365-41e8-83f7-7dcabca83ff3"
      },
      "source": [
        "explained_variance=pca.explained_variance_ratio_\n",
        "explained_variance"
      ],
      "execution_count": 51,
      "outputs": [
        {
          "output_type": "execute_result",
          "data": {
            "text/plain": [
              "array([0.38132695, 0.19446692, 0.17723155, 0.11769662])"
            ]
          },
          "metadata": {
            "tags": []
          },
          "execution_count": 51
        }
      ]
    },
    {
      "cell_type": "code",
      "metadata": {
        "colab": {
          "base_uri": "https://localhost:8080/",
          "height": 297
        },
        "id": "7Jy6GUMoxsj3",
        "outputId": "946a9c0d-7d65-4444-f681-af2240b354a7"
      },
      "source": [
        "with plt.style.context('dark_background'):\n",
        "    plt.figure(figsize=(6, 4))\n",
        "\n",
        "    plt.bar(range(4), explained_variance, alpha=0.5, align='center',\n",
        "            label='individual explained variance')\n",
        "    plt.ylabel('Explained variance ratio')\n",
        "    plt.xlabel('Principal components')\n",
        "    plt.legend(loc='best')\n",
        "    plt.tight_layout()"
      ],
      "execution_count": null,
      "outputs": [
        {
          "output_type": "display_data",
          "data": {
            "image/png": "[encoded data removed]",
            "text/plain": [
              "<Figure size 432x288 with 1 Axes>"
            ]
          },
          "metadata": {
            "tags": []
          }
        }
      ]
    },
    {
      "cell_type": "code",
      "metadata": {
        "colab": {
          "base_uri": "https://localhost:8080/"
        },
        "id": "pgfhYsbfDPfr",
        "outputId": "aefb0965-008b-4754-a3d9-6f2f42306510"
      },
      "source": [
        "from sklearn.model_selection import train_test_split\n",
        "X_train, X_test, y_train, y_test = train_test_split(X, y, train_size=0.8, random_state=1)\n",
        "Xtrain_dim = X_train.shape\n",
        "Xtest_dim = X_test.shape\n",
        "print(Xtrain_dim)\n",
        "print(Xtest_dim)"
      ],
      "execution_count": 52,
      "outputs": [
        {
          "output_type": "stream",
          "text": [
            "(8294400, 12)\n",
            "(2073600, 12)\n"
          ],
          "name": "stdout"
        }
      ]
    },
    {
      "cell_type": "code",
      "metadata": {
        "id": "jkhOCIIsDZIL"
      },
      "source": [
        "# Establish model\n",
        "from sklearn.ensemble import RandomForestRegressor\n",
        "model = RandomForestRegressor()"
      ],
      "execution_count": 53,
      "outputs": []
    },
    {
      "cell_type": "code",
      "metadata": {
        "colab": {
          "base_uri": "https://localhost:8080/",
          "height": 370
        },
        "id": "9O_oAHLiDcyd",
        "outputId": "a6923565-fac8-4ba0-95f0-6dc863dbb81a"
      },
      "source": [
        "# Try different numbers of n_estimators - this will take a minute or so\n",
        "#estimators = np.arange(10, 200, 10)\n",
        "estimators = np.arange(10, 20, 10)\n",
        "scores = []\n",
        "for n in estimators:\n",
        "    model.set_params(n_estimators=n)\n",
        "    model.fit(X_train, y_train)\n",
        "    scores.append(model.score(X_test, y_test))\n",
        "filename = 'finalized_model.sav'\n",
        "pickle.dump(model, open(filename, 'wb'))\n",
        "print(scores)"
      ],
      "execution_count": 54,
      "outputs": [
        {
          "output_type": "error",
          "ename": "KeyboardInterrupt",
          "evalue": "ignored",
          "traceback": [
            "\u001b[0;31m---------------------------------------------------------------------------\u001b[0m",
            "\u001b[0;31mKeyboardInterrupt\u001b[0m                         Traceback (most recent call last)",
            "\u001b[0;32m<ipython-input-54-3915bb6d75e7>\u001b[0m in \u001b[0;36m<module>\u001b[0;34m()\u001b[0m\n\u001b[1;32m      5\u001b[0m \u001b[0;32mfor\u001b[0m \u001b[0mn\u001b[0m \u001b[0;32min\u001b[0m \u001b[0mestimators\u001b[0m\u001b[0;34m:\u001b[0m\u001b[0;34m\u001b[0m\u001b[0;34m\u001b[0m\u001b[0m\n\u001b[1;32m      6\u001b[0m     \u001b[0mmodel\u001b[0m\u001b[0;34m.\u001b[0m\u001b[0mset_params\u001b[0m\u001b[0;34m(\u001b[0m\u001b[0mn_estimators\u001b[0m\u001b[0;34m=\u001b[0m\u001b[0mn\u001b[0m\u001b[0;34m)\u001b[0m\u001b[0;34m\u001b[0m\u001b[0;34m\u001b[0m\u001b[0m\n\u001b[0;32m----> 7\u001b[0;31m     \u001b[0mmodel\u001b[0m\u001b[0;34m.\u001b[0m\u001b[0mfit\u001b[0m\u001b[0;34m(\u001b[0m\u001b[0mX_train\u001b[0m\u001b[0;34m,\u001b[0m \u001b[0my_train\u001b[0m\u001b[0;34m)\u001b[0m\u001b[0;34m\u001b[0m\u001b[0;34m\u001b[0m\u001b[0m\n\u001b[0m\u001b[1;32m      8\u001b[0m     \u001b[0mscores\u001b[0m\u001b[0;34m.\u001b[0m\u001b[0mappend\u001b[0m\u001b[0;34m(\u001b[0m\u001b[0mmodel\u001b[0m\u001b[0;34m.\u001b[0m\u001b[0mscore\u001b[0m\u001b[0;34m(\u001b[0m\u001b[0mX_test\u001b[0m\u001b[0;34m,\u001b[0m \u001b[0my_test\u001b[0m\u001b[0;34m)\u001b[0m\u001b[0;34m)\u001b[0m\u001b[0;34m\u001b[0m\u001b[0;34m\u001b[0m\u001b[0m\n\u001b[1;32m      9\u001b[0m \u001b[0mfilename\u001b[0m \u001b[0;34m=\u001b[0m \u001b[0;34m'finalized_model.sav'\u001b[0m\u001b[0;34m\u001b[0m\u001b[0;34m\u001b[0m\u001b[0m\n",
            "\u001b[0;32m/usr/local/lib/python3.7/dist-packages/sklearn/ensemble/_forest.py\u001b[0m in \u001b[0;36mfit\u001b[0;34m(self, X, y, sample_weight)\u001b[0m\n\u001b[1;32m    381\u001b[0m                     \u001b[0mverbose\u001b[0m\u001b[0;34m=\u001b[0m\u001b[0mself\u001b[0m\u001b[0;34m.\u001b[0m\u001b[0mverbose\u001b[0m\u001b[0;34m,\u001b[0m \u001b[0mclass_weight\u001b[0m\u001b[0;34m=\u001b[0m\u001b[0mself\u001b[0m\u001b[0;34m.\u001b[0m\u001b[0mclass_weight\u001b[0m\u001b[0;34m,\u001b[0m\u001b[0;34m\u001b[0m\u001b[0;34m\u001b[0m\u001b[0m\n\u001b[1;32m    382\u001b[0m                     n_samples_bootstrap=n_samples_bootstrap)\n\u001b[0;32m--> 383\u001b[0;31m                 for i, t in enumerate(trees))\n\u001b[0m\u001b[1;32m    384\u001b[0m \u001b[0;34m\u001b[0m\u001b[0m\n\u001b[1;32m    385\u001b[0m             \u001b[0;31m# Collect newly grown trees\u001b[0m\u001b[0;34m\u001b[0m\u001b[0;34m\u001b[0m\u001b[0;34m\u001b[0m\u001b[0m\n",
            "\u001b[0;32m/usr/local/lib/python3.7/dist-packages/joblib/parallel.py\u001b[0m in \u001b[0;36m__call__\u001b[0;34m(self, iterable)\u001b[0m\n\u001b[1;32m   1042\u001b[0m                 \u001b[0mself\u001b[0m\u001b[0;34m.\u001b[0m\u001b[0m_iterating\u001b[0m \u001b[0;34m=\u001b[0m \u001b[0mself\u001b[0m\u001b[0;34m.\u001b[0m\u001b[0m_original_iterator\u001b[0m \u001b[0;32mis\u001b[0m \u001b[0;32mnot\u001b[0m \u001b[0;32mNone\u001b[0m\u001b[0;34m\u001b[0m\u001b[0;34m\u001b[0m\u001b[0m\n\u001b[1;32m   1043\u001b[0m \u001b[0;34m\u001b[0m\u001b[0m\n\u001b[0;32m-> 1044\u001b[0;31m             \u001b[0;32mwhile\u001b[0m \u001b[0mself\u001b[0m\u001b[0;34m.\u001b[0m\u001b[0mdispatch_one_batch\u001b[0m\u001b[0;34m(\u001b[0m\u001b[0miterator\u001b[0m\u001b[0;34m)\u001b[0m\u001b[0;34m:\u001b[0m\u001b[0;34m\u001b[0m\u001b[0;34m\u001b[0m\u001b[0m\n\u001b[0m\u001b[1;32m   1045\u001b[0m                 \u001b[0;32mpass\u001b[0m\u001b[0;34m\u001b[0m\u001b[0;34m\u001b[0m\u001b[0m\n\u001b[1;32m   1046\u001b[0m \u001b[0;34m\u001b[0m\u001b[0m\n",
            "\u001b[0;32m/usr/local/lib/python3.7/dist-packages/joblib/parallel.py\u001b[0m in \u001b[0;36mdispatch_one_batch\u001b[0;34m(self, iterator)\u001b[0m\n\u001b[1;32m    857\u001b[0m                 \u001b[0;32mreturn\u001b[0m \u001b[0;32mFalse\u001b[0m\u001b[0;34m\u001b[0m\u001b[0;34m\u001b[0m\u001b[0m\n\u001b[1;32m    858\u001b[0m             \u001b[0;32melse\u001b[0m\u001b[0;34m:\u001b[0m\u001b[0;34m\u001b[0m\u001b[0;34m\u001b[0m\u001b[0m\n\u001b[0;32m--> 859\u001b[0;31m                 \u001b[0mself\u001b[0m\u001b[0;34m.\u001b[0m\u001b[0m_dispatch\u001b[0m\u001b[0;34m(\u001b[0m\u001b[0mtasks\u001b[0m\u001b[0;34m)\u001b[0m\u001b[0;34m\u001b[0m\u001b[0;34m\u001b[0m\u001b[0m\n\u001b[0m\u001b[1;32m    860\u001b[0m                 \u001b[0;32mreturn\u001b[0m \u001b[0;32mTrue\u001b[0m\u001b[0;34m\u001b[0m\u001b[0;34m\u001b[0m\u001b[0m\n\u001b[1;32m    861\u001b[0m \u001b[0;34m\u001b[0m\u001b[0m\n",
            "\u001b[0;32m/usr/local/lib/python3.7/dist-packages/joblib/parallel.py\u001b[0m in \u001b[0;36m_dispatch\u001b[0;34m(self, batch)\u001b[0m\n\u001b[1;32m    775\u001b[0m         \u001b[0;32mwith\u001b[0m \u001b[0mself\u001b[0m\u001b[0;34m.\u001b[0m\u001b[0m_lock\u001b[0m\u001b[0;34m:\u001b[0m\u001b[0;34m\u001b[0m\u001b[0;34m\u001b[0m\u001b[0m\n\u001b[1;32m    776\u001b[0m             \u001b[0mjob_idx\u001b[0m \u001b[0;34m=\u001b[0m \u001b[0mlen\u001b[0m\u001b[0;34m(\u001b[0m\u001b[0mself\u001b[0m\u001b[0;34m.\u001b[0m\u001b[0m_jobs\u001b[0m\u001b[0;34m)\u001b[0m\u001b[0;34m\u001b[0m\u001b[0;34m\u001b[0m\u001b[0m\n\u001b[0;32m--> 777\u001b[0;31m             \u001b[0mjob\u001b[0m \u001b[0;34m=\u001b[0m \u001b[0mself\u001b[0m\u001b[0;34m.\u001b[0m\u001b[0m_backend\u001b[0m\u001b[0;34m.\u001b[0m\u001b[0mapply_async\u001b[0m\u001b[0;34m(\u001b[0m\u001b[0mbatch\u001b[0m\u001b[0;34m,\u001b[0m \u001b[0mcallback\u001b[0m\u001b[0;34m=\u001b[0m\u001b[0mcb\u001b[0m\u001b[0;34m)\u001b[0m\u001b[0;34m\u001b[0m\u001b[0;34m\u001b[0m\u001b[0m\n\u001b[0m\u001b[1;32m    778\u001b[0m             \u001b[0;31m# A job can complete so quickly than its callback is\u001b[0m\u001b[0;34m\u001b[0m\u001b[0;34m\u001b[0m\u001b[0;34m\u001b[0m\u001b[0m\n\u001b[1;32m    779\u001b[0m             \u001b[0;31m# called before we get here, causing self._jobs to\u001b[0m\u001b[0;34m\u001b[0m\u001b[0;34m\u001b[0m\u001b[0;34m\u001b[0m\u001b[0m\n",
            "\u001b[0;32m/usr/local/lib/python3.7/dist-packages/joblib/_parallel_backends.py\u001b[0m in \u001b[0;36mapply_async\u001b[0;34m(self, func, callback)\u001b[0m\n\u001b[1;32m    206\u001b[0m     \u001b[0;32mdef\u001b[0m \u001b[0mapply_async\u001b[0m\u001b[0;34m(\u001b[0m\u001b[0mself\u001b[0m\u001b[0;34m,\u001b[0m \u001b[0mfunc\u001b[0m\u001b[0;34m,\u001b[0m \u001b[0mcallback\u001b[0m\u001b[0;34m=\u001b[0m\u001b[0;32mNone\u001b[0m\u001b[0;34m)\u001b[0m\u001b[0;34m:\u001b[0m\u001b[0;34m\u001b[0m\u001b[0;34m\u001b[0m\u001b[0m\n\u001b[1;32m    207\u001b[0m         \u001b[0;34m\"\"\"Schedule a func to be run\"\"\"\u001b[0m\u001b[0;34m\u001b[0m\u001b[0;34m\u001b[0m\u001b[0m\n\u001b[0;32m--> 208\u001b[0;31m         \u001b[0mresult\u001b[0m \u001b[0;34m=\u001b[0m \u001b[0mImmediateResult\u001b[0m\u001b[0;34m(\u001b[0m\u001b[0mfunc\u001b[0m\u001b[0;34m)\u001b[0m\u001b[0;34m\u001b[0m\u001b[0;34m\u001b[0m\u001b[0m\n\u001b[0m\u001b[1;32m    209\u001b[0m         \u001b[0;32mif\u001b[0m \u001b[0mcallback\u001b[0m\u001b[0;34m:\u001b[0m\u001b[0;34m\u001b[0m\u001b[0;34m\u001b[0m\u001b[0m\n\u001b[1;32m    210\u001b[0m             \u001b[0mcallback\u001b[0m\u001b[0;34m(\u001b[0m\u001b[0mresult\u001b[0m\u001b[0;34m)\u001b[0m\u001b[0;34m\u001b[0m\u001b[0;34m\u001b[0m\u001b[0m\n",
            "\u001b[0;32m/usr/local/lib/python3.7/dist-packages/joblib/_parallel_backends.py\u001b[0m in \u001b[0;36m__init__\u001b[0;34m(self, batch)\u001b[0m\n\u001b[1;32m    570\u001b[0m         \u001b[0;31m# Don't delay the application, to avoid keeping the input\u001b[0m\u001b[0;34m\u001b[0m\u001b[0;34m\u001b[0m\u001b[0;34m\u001b[0m\u001b[0m\n\u001b[1;32m    571\u001b[0m         \u001b[0;31m# arguments in memory\u001b[0m\u001b[0;34m\u001b[0m\u001b[0;34m\u001b[0m\u001b[0;34m\u001b[0m\u001b[0m\n\u001b[0;32m--> 572\u001b[0;31m         \u001b[0mself\u001b[0m\u001b[0;34m.\u001b[0m\u001b[0mresults\u001b[0m \u001b[0;34m=\u001b[0m \u001b[0mbatch\u001b[0m\u001b[0;34m(\u001b[0m\u001b[0;34m)\u001b[0m\u001b[0;34m\u001b[0m\u001b[0;34m\u001b[0m\u001b[0m\n\u001b[0m\u001b[1;32m    573\u001b[0m \u001b[0;34m\u001b[0m\u001b[0m\n\u001b[1;32m    574\u001b[0m     \u001b[0;32mdef\u001b[0m \u001b[0mget\u001b[0m\u001b[0;34m(\u001b[0m\u001b[0mself\u001b[0m\u001b[0;34m)\u001b[0m\u001b[0;34m:\u001b[0m\u001b[0;34m\u001b[0m\u001b[0;34m\u001b[0m\u001b[0m\n",
            "\u001b[0;32m/usr/local/lib/python3.7/dist-packages/joblib/parallel.py\u001b[0m in \u001b[0;36m__call__\u001b[0;34m(self)\u001b[0m\n\u001b[1;32m    261\u001b[0m         \u001b[0;32mwith\u001b[0m \u001b[0mparallel_backend\u001b[0m\u001b[0;34m(\u001b[0m\u001b[0mself\u001b[0m\u001b[0;34m.\u001b[0m\u001b[0m_backend\u001b[0m\u001b[0;34m,\u001b[0m \u001b[0mn_jobs\u001b[0m\u001b[0;34m=\u001b[0m\u001b[0mself\u001b[0m\u001b[0;34m.\u001b[0m\u001b[0m_n_jobs\u001b[0m\u001b[0;34m)\u001b[0m\u001b[0;34m:\u001b[0m\u001b[0;34m\u001b[0m\u001b[0;34m\u001b[0m\u001b[0m\n\u001b[1;32m    262\u001b[0m             return [func(*args, **kwargs)\n\u001b[0;32m--> 263\u001b[0;31m                     for func, args, kwargs in self.items]\n\u001b[0m\u001b[1;32m    264\u001b[0m \u001b[0;34m\u001b[0m\u001b[0m\n\u001b[1;32m    265\u001b[0m     \u001b[0;32mdef\u001b[0m \u001b[0m__reduce__\u001b[0m\u001b[0;34m(\u001b[0m\u001b[0mself\u001b[0m\u001b[0;34m)\u001b[0m\u001b[0;34m:\u001b[0m\u001b[0;34m\u001b[0m\u001b[0;34m\u001b[0m\u001b[0m\n",
            "\u001b[0;32m/usr/local/lib/python3.7/dist-packages/joblib/parallel.py\u001b[0m in \u001b[0;36m<listcomp>\u001b[0;34m(.0)\u001b[0m\n\u001b[1;32m    261\u001b[0m         \u001b[0;32mwith\u001b[0m \u001b[0mparallel_backend\u001b[0m\u001b[0;34m(\u001b[0m\u001b[0mself\u001b[0m\u001b[0;34m.\u001b[0m\u001b[0m_backend\u001b[0m\u001b[0;34m,\u001b[0m \u001b[0mn_jobs\u001b[0m\u001b[0;34m=\u001b[0m\u001b[0mself\u001b[0m\u001b[0;34m.\u001b[0m\u001b[0m_n_jobs\u001b[0m\u001b[0;34m)\u001b[0m\u001b[0;34m:\u001b[0m\u001b[0;34m\u001b[0m\u001b[0;34m\u001b[0m\u001b[0m\n\u001b[1;32m    262\u001b[0m             return [func(*args, **kwargs)\n\u001b[0;32m--> 263\u001b[0;31m                     for func, args, kwargs in self.items]\n\u001b[0m\u001b[1;32m    264\u001b[0m \u001b[0;34m\u001b[0m\u001b[0m\n\u001b[1;32m    265\u001b[0m     \u001b[0;32mdef\u001b[0m \u001b[0m__reduce__\u001b[0m\u001b[0;34m(\u001b[0m\u001b[0mself\u001b[0m\u001b[0;34m)\u001b[0m\u001b[0;34m:\u001b[0m\u001b[0;34m\u001b[0m\u001b[0;34m\u001b[0m\u001b[0m\n",
            "\u001b[0;32m/usr/local/lib/python3.7/dist-packages/sklearn/ensemble/_forest.py\u001b[0m in \u001b[0;36m_parallel_build_trees\u001b[0;34m(tree, forest, X, y, sample_weight, tree_idx, n_trees, verbose, class_weight, n_samples_bootstrap)\u001b[0m\n\u001b[1;32m    163\u001b[0m             \u001b[0mcurr_sample_weight\u001b[0m \u001b[0;34m*=\u001b[0m \u001b[0mcompute_sample_weight\u001b[0m\u001b[0;34m(\u001b[0m\u001b[0;34m'balanced'\u001b[0m\u001b[0;34m,\u001b[0m \u001b[0my\u001b[0m\u001b[0;34m,\u001b[0m \u001b[0mindices\u001b[0m\u001b[0;34m)\u001b[0m\u001b[0;34m\u001b[0m\u001b[0;34m\u001b[0m\u001b[0m\n\u001b[1;32m    164\u001b[0m \u001b[0;34m\u001b[0m\u001b[0m\n\u001b[0;32m--> 165\u001b[0;31m         \u001b[0mtree\u001b[0m\u001b[0;34m.\u001b[0m\u001b[0mfit\u001b[0m\u001b[0;34m(\u001b[0m\u001b[0mX\u001b[0m\u001b[0;34m,\u001b[0m \u001b[0my\u001b[0m\u001b[0;34m,\u001b[0m \u001b[0msample_weight\u001b[0m\u001b[0;34m=\u001b[0m\u001b[0mcurr_sample_weight\u001b[0m\u001b[0;34m,\u001b[0m \u001b[0mcheck_input\u001b[0m\u001b[0;34m=\u001b[0m\u001b[0;32mFalse\u001b[0m\u001b[0;34m)\u001b[0m\u001b[0;34m\u001b[0m\u001b[0;34m\u001b[0m\u001b[0m\n\u001b[0m\u001b[1;32m    166\u001b[0m     \u001b[0;32melse\u001b[0m\u001b[0;34m:\u001b[0m\u001b[0;34m\u001b[0m\u001b[0;34m\u001b[0m\u001b[0m\n\u001b[1;32m    167\u001b[0m         \u001b[0mtree\u001b[0m\u001b[0;34m.\u001b[0m\u001b[0mfit\u001b[0m\u001b[0;34m(\u001b[0m\u001b[0mX\u001b[0m\u001b[0;34m,\u001b[0m \u001b[0my\u001b[0m\u001b[0;34m,\u001b[0m \u001b[0msample_weight\u001b[0m\u001b[0;34m=\u001b[0m\u001b[0msample_weight\u001b[0m\u001b[0;34m,\u001b[0m \u001b[0mcheck_input\u001b[0m\u001b[0;34m=\u001b[0m\u001b[0;32mFalse\u001b[0m\u001b[0;34m)\u001b[0m\u001b[0;34m\u001b[0m\u001b[0;34m\u001b[0m\u001b[0m\n",
            "\u001b[0;32m/usr/local/lib/python3.7/dist-packages/sklearn/tree/_classes.py\u001b[0m in \u001b[0;36mfit\u001b[0;34m(self, X, y, sample_weight, check_input, X_idx_sorted)\u001b[0m\n\u001b[1;32m   1223\u001b[0m             \u001b[0msample_weight\u001b[0m\u001b[0;34m=\u001b[0m\u001b[0msample_weight\u001b[0m\u001b[0;34m,\u001b[0m\u001b[0;34m\u001b[0m\u001b[0;34m\u001b[0m\u001b[0m\n\u001b[1;32m   1224\u001b[0m             \u001b[0mcheck_input\u001b[0m\u001b[0;34m=\u001b[0m\u001b[0mcheck_input\u001b[0m\u001b[0;34m,\u001b[0m\u001b[0;34m\u001b[0m\u001b[0;34m\u001b[0m\u001b[0m\n\u001b[0;32m-> 1225\u001b[0;31m             X_idx_sorted=X_idx_sorted)\n\u001b[0m\u001b[1;32m   1226\u001b[0m         \u001b[0;32mreturn\u001b[0m \u001b[0mself\u001b[0m\u001b[0;34m\u001b[0m\u001b[0;34m\u001b[0m\u001b[0m\n\u001b[1;32m   1227\u001b[0m \u001b[0;34m\u001b[0m\u001b[0m\n",
            "\u001b[0;32m/usr/local/lib/python3.7/dist-packages/sklearn/tree/_classes.py\u001b[0m in \u001b[0;36mfit\u001b[0;34m(self, X, y, sample_weight, check_input, X_idx_sorted)\u001b[0m\n\u001b[1;32m    365\u001b[0m                                            min_impurity_split)\n\u001b[1;32m    366\u001b[0m \u001b[0;34m\u001b[0m\u001b[0m\n\u001b[0;32m--> 367\u001b[0;31m         \u001b[0mbuilder\u001b[0m\u001b[0;34m.\u001b[0m\u001b[0mbuild\u001b[0m\u001b[0;34m(\u001b[0m\u001b[0mself\u001b[0m\u001b[0;34m.\u001b[0m\u001b[0mtree_\u001b[0m\u001b[0;34m,\u001b[0m \u001b[0mX\u001b[0m\u001b[0;34m,\u001b[0m \u001b[0my\u001b[0m\u001b[0;34m,\u001b[0m \u001b[0msample_weight\u001b[0m\u001b[0;34m,\u001b[0m \u001b[0mX_idx_sorted\u001b[0m\u001b[0;34m)\u001b[0m\u001b[0;34m\u001b[0m\u001b[0;34m\u001b[0m\u001b[0m\n\u001b[0m\u001b[1;32m    368\u001b[0m \u001b[0;34m\u001b[0m\u001b[0m\n\u001b[1;32m    369\u001b[0m         \u001b[0;32mif\u001b[0m \u001b[0mself\u001b[0m\u001b[0;34m.\u001b[0m\u001b[0mn_outputs_\u001b[0m \u001b[0;34m==\u001b[0m \u001b[0;36m1\u001b[0m \u001b[0;32mand\u001b[0m \u001b[0mis_classifier\u001b[0m\u001b[0;34m(\u001b[0m\u001b[0mself\u001b[0m\u001b[0;34m)\u001b[0m\u001b[0;34m:\u001b[0m\u001b[0;34m\u001b[0m\u001b[0;34m\u001b[0m\u001b[0m\n",
            "\u001b[0;31mKeyboardInterrupt\u001b[0m: "
          ]
        }
      ]
    },
    {
      "cell_type": "code",
      "metadata": {
        "id": "_t8EjoslDd22"
      },
      "source": [
        "plt.title(\"Effect of n_estimators\")\n",
        "plt.xlabel(\"n_estimator\")\n",
        "plt.ylabel(\"score\")\n",
        "plt.plot(estimators, scores)"
      ],
      "execution_count": null,
      "outputs": []
    },
    {
      "cell_type": "code",
      "metadata": {
        "colab": {
          "base_uri": "https://localhost:8080/",
          "height": 34
        },
        "id": "cKUYYd20DhPM",
        "outputId": "2128298d-d8cb-4152-c986-b0719fdd04f0"
      },
      "source": [
        "from sklearn.model_selection import train_test_split\n",
        "X_train, X_test, y_train, y_test = train_test_split(X_new, y, test_size=0.2, random_state=1)\n",
        "X_train.shape\n",
        "y_train.shape"
      ],
      "execution_count": null,
      "outputs": [
        {
          "output_type": "execute_result",
          "data": {
            "text/plain": [
              "(8294400,)"
            ]
          },
          "metadata": {
            "tags": []
          },
          "execution_count": 39
        }
      ]
    },
    {
      "cell_type": "code",
      "metadata": {
        "id": "KS7Zj-_ODxpc"
      },
      "source": [
        "# Establish model\n",
        "#from sklearn.ensemble import RandomForestRegressor\n",
        "from sklearn.linear_model import LogisticRegression\n",
        "model = LogisticRegression(solver = 'lbfgs')"
      ],
      "execution_count": null,
      "outputs": []
    },
    {
      "cell_type": "code",
      "metadata": {
        "id": "3m6W-CT8OSTK"
      },
      "source": [
        "a = []\n",
        "while(1):\n",
        "  a.append('1')"
      ],
      "execution_count": null,
      "outputs": []
    },
    {
      "cell_type": "code",
      "metadata": {
        "colab": {
          "base_uri": "https://localhost:8080/",
          "height": 50
        },
        "id": "5AMjlZS6Q0qz",
        "outputId": "a4912fb9-1eae-4980-da57-73828d5fe3e1"
      },
      "source": [
        "!ls"
      ],
      "execution_count": null,
      "outputs": [
        {
          "output_type": "stream",
          "text": [
            "kaggle.json\t\t      micro-pmu-october-1-dataset.zip\n",
            "_LBNL_a6_bus1_2015-10-01.csv  sample_data\n"
          ],
          "name": "stdout"
        }
      ]
    },
    {
      "cell_type": "code",
      "metadata": {
        "colab": {
          "base_uri": "https://localhost:8080/",
          "height": 34
        },
        "id": "nDWfH-Q7D0sf",
        "outputId": "a469d3e7-d42d-485b-abb9-2bb6a2baeb5e"
      },
      "source": [
        "# Try different numbers of n_estimators - this will take a minute or so\n",
        "#estimators = np.arange(10, 20, 10)\n",
        "estimators = np.arange(2)\n",
        "print(estimators)\n",
        "scores = []\n",
        "#for n in estimators:\n",
        "#    model.set_params(n_estimators=n)\n",
        "#   model.fit(X_train, y_train)\n",
        "#    scores.append(model.score(X_test, y_test))\n",
        "\n",
        "model.set_params()\n",
        "model.fit(X_train, y_train)\n",
        "scores.append(model.score(X_test, y_test))\n",
        "print(scores)  "
      ],
      "execution_count": null,
      "outputs": [
        {
          "output_type": "stream",
          "text": [
            "[0 1]\n"
          ],
          "name": "stdout"
        }
      ]
    },
    {
      "cell_type": "code",
      "metadata": {
        "id": "i-fe4AY-NgfF"
      },
      "source": [
        ""
      ],
      "execution_count": null,
      "outputs": []
    }
  ]
}